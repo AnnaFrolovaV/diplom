{
  "cells": [
    {
      "cell_type": "code",
      "execution_count": null,
      "id": "d82adafe",
      "metadata": {
        "id": "d82adafe"
      },
      "outputs": [],
      "source": [
        "import pandas as pd\n",
        "import numpy as np\n",
        "import matplotlib.pyplot as plt\n",
        "import requests\n",
        "import torchvision\n",
        "import torch\n",
        "import torch.nn as nn\n",
        "\n",
        "# dom_click_table = pd.read_csv('./DomClickData/Dom_click_data.csv')"
      ]
    },
    {
      "cell_type": "code",
      "source": [
        "from google.colab import drive\n",
        "drive.mount('/content/drive')"
      ],
      "metadata": {
        "colab": {
          "base_uri": "https://localhost:8080/"
        },
        "id": "F9RHLK2w8ySL",
        "outputId": "10bd5801-5c1c-4158-d0c7-0c785cd0f1ad"
      },
      "id": "F9RHLK2w8ySL",
      "execution_count": null,
      "outputs": [
        {
          "output_type": "stream",
          "name": "stdout",
          "text": [
            "Mounted at /content/drive\n"
          ]
        }
      ]
    },
    {
      "cell_type": "code",
      "source": [
        "!unzip /content/drive/MyDrive/Diplom/data_hse.zip"
      ],
      "metadata": {
        "id": "Bh6i_Pep823c",
        "colab": {
          "base_uri": "https://localhost:8080/"
        },
        "outputId": "4b1ae28e-4d7f-4ace-f693-030ce2104651"
      },
      "id": "Bh6i_Pep823c",
      "execution_count": null,
      "outputs": [
        {
          "output_type": "stream",
          "name": "stdout",
          "text": [
            "unzip:  cannot find or open /content/drive/MyDrive/Diplom/data_hse.zip, /content/drive/MyDrive/Diplom/data_hse.zip.zip or /content/drive/MyDrive/Diplom/data_hse.zip.ZIP.\n"
          ]
        }
      ]
    },
    {
      "cell_type": "code",
      "source": [
        "dom_click_table = pd.read_csv('/content/drive/MyDrive/Diplom/after_preproc.csv')"
      ],
      "metadata": {
        "id": "BJHSYgIW_eQ9"
      },
      "id": "BJHSYgIW_eQ9",
      "execution_count": null,
      "outputs": []
    },
    {
      "cell_type": "code",
      "execution_count": null,
      "id": "9820a9ed",
      "metadata": {
        "id": "9820a9ed"
      },
      "outputs": [],
      "source": [
        "dom_click_table.head()"
      ]
    },
    {
      "cell_type": "code",
      "execution_count": null,
      "id": "d61e1561",
      "metadata": {
        "colab": {
          "base_uri": "https://localhost:8080/"
        },
        "id": "d61e1561",
        "outputId": "190d26c8-8a3a-43c3-fb83-c73b3cd255bf"
      },
      "outputs": [
        {
          "output_type": "stream",
          "name": "stderr",
          "text": [
            "<ipython-input-6-503f6149720e>:4: SettingWithCopyWarning: \n",
            "A value is trying to be set on a copy of a slice from a DataFrame\n",
            "\n",
            "See the caveats in the documentation: https://pandas.pydata.org/pandas-docs/stable/user_guide/indexing.html#returning-a-view-versus-a-copy\n",
            "  dom_click_table['im_name'].iloc[i] = dom_click_table['first_value'][i].split('/')[-1]\n"
          ]
        }
      ],
      "source": [
        "dom_click_table['im_name'] = ''\n",
        "n = len(dom_click_table)\n",
        "for i in range(n):\n",
        "    dom_click_table['im_name'].iloc[i] = dom_click_table['first_value'][i].split('/')[-1]"
      ]
    },
    {
      "cell_type": "code",
      "execution_count": null,
      "id": "180e300b",
      "metadata": {
        "id": "180e300b"
      },
      "outputs": [],
      "source": [
        "dom_click_table[dom_click_table['shows'] == 0]"
      ]
    },
    {
      "cell_type": "code",
      "execution_count": null,
      "id": "308abdf3",
      "metadata": {
        "colab": {
          "base_uri": "https://localhost:8080/"
        },
        "id": "308abdf3",
        "outputId": "a8b727da-7951-46ac-c5f0-290cf751f9dc"
      },
      "outputs": [
        {
          "output_type": "stream",
          "name": "stderr",
          "text": [
            "<ipython-input-89-0a6392c0ac8b>:1: FutureWarning: The default value of numeric_only in DataFrameGroupBy.sum is deprecated. In a future version, numeric_only will default to False. Either specify numeric_only or select only columns which should be valid for the function.\n",
            "  prob_table = dom_click_table.groupby(by=[\"im_name\"]).sum().reset_index()[['im_name', 'clicks', 'shows', 'price']]\n"
          ]
        }
      ],
      "source": [
        "prob_table = dom_click_table.groupby(by=[\"im_name\"]).sum().reset_index()[['im_name', 'clicks', 'shows', 'price']]"
      ]
    },
    {
      "cell_type": "code",
      "execution_count": null,
      "id": "dda6589e",
      "metadata": {
        "colab": {
          "base_uri": "https://localhost:8080/",
          "height": 607
        },
        "id": "dda6589e",
        "outputId": "f0eb761e-01fc-4b0b-c957-26f91f0d918f"
      },
      "outputs": [
        {
          "output_type": "execute_result",
          "data": {
            "text/plain": [
              "        im_name  shows  price\n",
              "clicks                       \n",
              "0          1391   1391   1391\n",
              "1           219    219    219\n",
              "2            74     74     74\n",
              "3            25     25     25\n",
              "4            15     15     15\n",
              "5            12     12     12\n",
              "6             8      8      8\n",
              "7             6      6      6\n",
              "8             5      5      5\n",
              "9             1      1      1\n",
              "10            2      2      2\n",
              "12            2      2      2\n",
              "14            1      1      1\n",
              "18            1      1      1\n",
              "22            1      1      1\n",
              "32            1      1      1\n",
              "76            1      1      1"
            ],
            "text/html": [
              "\n",
              "  <div id=\"df-f8a178ed-661a-4daf-b95e-ac87e297c501\">\n",
              "    <div class=\"colab-df-container\">\n",
              "      <div>\n",
              "<style scoped>\n",
              "    .dataframe tbody tr th:only-of-type {\n",
              "        vertical-align: middle;\n",
              "    }\n",
              "\n",
              "    .dataframe tbody tr th {\n",
              "        vertical-align: top;\n",
              "    }\n",
              "\n",
              "    .dataframe thead th {\n",
              "        text-align: right;\n",
              "    }\n",
              "</style>\n",
              "<table border=\"1\" class=\"dataframe\">\n",
              "  <thead>\n",
              "    <tr style=\"text-align: right;\">\n",
              "      <th></th>\n",
              "      <th>im_name</th>\n",
              "      <th>shows</th>\n",
              "      <th>price</th>\n",
              "    </tr>\n",
              "    <tr>\n",
              "      <th>clicks</th>\n",
              "      <th></th>\n",
              "      <th></th>\n",
              "      <th></th>\n",
              "    </tr>\n",
              "  </thead>\n",
              "  <tbody>\n",
              "    <tr>\n",
              "      <th>0</th>\n",
              "      <td>1391</td>\n",
              "      <td>1391</td>\n",
              "      <td>1391</td>\n",
              "    </tr>\n",
              "    <tr>\n",
              "      <th>1</th>\n",
              "      <td>219</td>\n",
              "      <td>219</td>\n",
              "      <td>219</td>\n",
              "    </tr>\n",
              "    <tr>\n",
              "      <th>2</th>\n",
              "      <td>74</td>\n",
              "      <td>74</td>\n",
              "      <td>74</td>\n",
              "    </tr>\n",
              "    <tr>\n",
              "      <th>3</th>\n",
              "      <td>25</td>\n",
              "      <td>25</td>\n",
              "      <td>25</td>\n",
              "    </tr>\n",
              "    <tr>\n",
              "      <th>4</th>\n",
              "      <td>15</td>\n",
              "      <td>15</td>\n",
              "      <td>15</td>\n",
              "    </tr>\n",
              "    <tr>\n",
              "      <th>5</th>\n",
              "      <td>12</td>\n",
              "      <td>12</td>\n",
              "      <td>12</td>\n",
              "    </tr>\n",
              "    <tr>\n",
              "      <th>6</th>\n",
              "      <td>8</td>\n",
              "      <td>8</td>\n",
              "      <td>8</td>\n",
              "    </tr>\n",
              "    <tr>\n",
              "      <th>7</th>\n",
              "      <td>6</td>\n",
              "      <td>6</td>\n",
              "      <td>6</td>\n",
              "    </tr>\n",
              "    <tr>\n",
              "      <th>8</th>\n",
              "      <td>5</td>\n",
              "      <td>5</td>\n",
              "      <td>5</td>\n",
              "    </tr>\n",
              "    <tr>\n",
              "      <th>9</th>\n",
              "      <td>1</td>\n",
              "      <td>1</td>\n",
              "      <td>1</td>\n",
              "    </tr>\n",
              "    <tr>\n",
              "      <th>10</th>\n",
              "      <td>2</td>\n",
              "      <td>2</td>\n",
              "      <td>2</td>\n",
              "    </tr>\n",
              "    <tr>\n",
              "      <th>12</th>\n",
              "      <td>2</td>\n",
              "      <td>2</td>\n",
              "      <td>2</td>\n",
              "    </tr>\n",
              "    <tr>\n",
              "      <th>14</th>\n",
              "      <td>1</td>\n",
              "      <td>1</td>\n",
              "      <td>1</td>\n",
              "    </tr>\n",
              "    <tr>\n",
              "      <th>18</th>\n",
              "      <td>1</td>\n",
              "      <td>1</td>\n",
              "      <td>1</td>\n",
              "    </tr>\n",
              "    <tr>\n",
              "      <th>22</th>\n",
              "      <td>1</td>\n",
              "      <td>1</td>\n",
              "      <td>1</td>\n",
              "    </tr>\n",
              "    <tr>\n",
              "      <th>32</th>\n",
              "      <td>1</td>\n",
              "      <td>1</td>\n",
              "      <td>1</td>\n",
              "    </tr>\n",
              "    <tr>\n",
              "      <th>76</th>\n",
              "      <td>1</td>\n",
              "      <td>1</td>\n",
              "      <td>1</td>\n",
              "    </tr>\n",
              "  </tbody>\n",
              "</table>\n",
              "</div>\n",
              "      <button class=\"colab-df-convert\" onclick=\"convertToInteractive('df-f8a178ed-661a-4daf-b95e-ac87e297c501')\"\n",
              "              title=\"Convert this dataframe to an interactive table.\"\n",
              "              style=\"display:none;\">\n",
              "        \n",
              "  <svg xmlns=\"http://www.w3.org/2000/svg\" height=\"24px\"viewBox=\"0 0 24 24\"\n",
              "       width=\"24px\">\n",
              "    <path d=\"M0 0h24v24H0V0z\" fill=\"none\"/>\n",
              "    <path d=\"M18.56 5.44l.94 2.06.94-2.06 2.06-.94-2.06-.94-.94-2.06-.94 2.06-2.06.94zm-11 1L8.5 8.5l.94-2.06 2.06-.94-2.06-.94L8.5 2.5l-.94 2.06-2.06.94zm10 10l.94 2.06.94-2.06 2.06-.94-2.06-.94-.94-2.06-.94 2.06-2.06.94z\"/><path d=\"M17.41 7.96l-1.37-1.37c-.4-.4-.92-.59-1.43-.59-.52 0-1.04.2-1.43.59L10.3 9.45l-7.72 7.72c-.78.78-.78 2.05 0 2.83L4 21.41c.39.39.9.59 1.41.59.51 0 1.02-.2 1.41-.59l7.78-7.78 2.81-2.81c.8-.78.8-2.07 0-2.86zM5.41 20L4 18.59l7.72-7.72 1.47 1.35L5.41 20z\"/>\n",
              "  </svg>\n",
              "      </button>\n",
              "      \n",
              "  <style>\n",
              "    .colab-df-container {\n",
              "      display:flex;\n",
              "      flex-wrap:wrap;\n",
              "      gap: 12px;\n",
              "    }\n",
              "\n",
              "    .colab-df-convert {\n",
              "      background-color: #E8F0FE;\n",
              "      border: none;\n",
              "      border-radius: 50%;\n",
              "      cursor: pointer;\n",
              "      display: none;\n",
              "      fill: #1967D2;\n",
              "      height: 32px;\n",
              "      padding: 0 0 0 0;\n",
              "      width: 32px;\n",
              "    }\n",
              "\n",
              "    .colab-df-convert:hover {\n",
              "      background-color: #E2EBFA;\n",
              "      box-shadow: 0px 1px 2px rgba(60, 64, 67, 0.3), 0px 1px 3px 1px rgba(60, 64, 67, 0.15);\n",
              "      fill: #174EA6;\n",
              "    }\n",
              "\n",
              "    [theme=dark] .colab-df-convert {\n",
              "      background-color: #3B4455;\n",
              "      fill: #D2E3FC;\n",
              "    }\n",
              "\n",
              "    [theme=dark] .colab-df-convert:hover {\n",
              "      background-color: #434B5C;\n",
              "      box-shadow: 0px 1px 3px 1px rgba(0, 0, 0, 0.15);\n",
              "      filter: drop-shadow(0px 1px 2px rgba(0, 0, 0, 0.3));\n",
              "      fill: #FFFFFF;\n",
              "    }\n",
              "  </style>\n",
              "\n",
              "      <script>\n",
              "        const buttonEl =\n",
              "          document.querySelector('#df-f8a178ed-661a-4daf-b95e-ac87e297c501 button.colab-df-convert');\n",
              "        buttonEl.style.display =\n",
              "          google.colab.kernel.accessAllowed ? 'block' : 'none';\n",
              "\n",
              "        async function convertToInteractive(key) {\n",
              "          const element = document.querySelector('#df-f8a178ed-661a-4daf-b95e-ac87e297c501');\n",
              "          const dataTable =\n",
              "            await google.colab.kernel.invokeFunction('convertToInteractive',\n",
              "                                                     [key], {});\n",
              "          if (!dataTable) return;\n",
              "\n",
              "          const docLinkHtml = 'Like what you see? Visit the ' +\n",
              "            '<a target=\"_blank\" href=https://colab.research.google.com/notebooks/data_table.ipynb>data table notebook</a>'\n",
              "            + ' to learn more about interactive tables.';\n",
              "          element.innerHTML = '';\n",
              "          dataTable['output_type'] = 'display_data';\n",
              "          await google.colab.output.renderOutput(dataTable, element);\n",
              "          const docLink = document.createElement('div');\n",
              "          docLink.innerHTML = docLinkHtml;\n",
              "          element.appendChild(docLink);\n",
              "        }\n",
              "      </script>\n",
              "    </div>\n",
              "  </div>\n",
              "  "
            ]
          },
          "metadata": {},
          "execution_count": 90
        }
      ],
      "source": [
        "# import \n",
        "prob_table.groupby(by=['clicks']).count()"
      ]
    },
    {
      "cell_type": "code",
      "execution_count": null,
      "id": "d74e492c",
      "metadata": {
        "colab": {
          "base_uri": "https://localhost:8080/",
          "height": 374
        },
        "id": "d74e492c",
        "outputId": "b0133120-4016-440c-b21d-ab562ed9426e"
      },
      "outputs": [
        {
          "output_type": "stream",
          "name": "stderr",
          "text": [
            "<ipython-input-91-61adaa35f993>:2: SettingWithCopyWarning: \n",
            "A value is trying to be set on a copy of a slice from a DataFrame\n",
            "\n",
            "See the caveats in the documentation: https://pandas.pydata.org/pandas-docs/stable/user_guide/indexing.html#returning-a-view-versus-a-copy\n",
            "  prob_table['prob'].loc[prob_table['shows'] != 0] = prob_table['clicks'] / prob_table['shows']\n",
            "<ipython-input-91-61adaa35f993>:3: SettingWithCopyWarning: \n",
            "A value is trying to be set on a copy of a slice from a DataFrame\n",
            "\n",
            "See the caveats in the documentation: https://pandas.pydata.org/pandas-docs/stable/user_guide/indexing.html#returning-a-view-versus-a-copy\n",
            "  prob_table['prob'].loc[prob_table['shows'] == 0] = 0\n"
          ]
        },
        {
          "output_type": "execute_result",
          "data": {
            "text/plain": [
              "                                           im_name  clicks  shows      price  \\\n",
              "462   43db52820c909b5cc6a87f1d31a29fa55bd08aab.jpg       0      3   320000.0   \n",
              "1128  a7a95a1621d91286e737bad984d0b8b8756864ff.jpg       0     10   120000.0   \n",
              "502           4a45d88ccae341c9b0a67004c501bebe.jpg       0     16   294000.0   \n",
              "775   7291f662c94737643698b1b652fd38466ea15817.jpg       0      3  3600000.0   \n",
              "608           593a5e2443214b5e80eaa69546a379de.jpg       3     73   216000.0   \n",
              "\n",
              "          prob  \n",
              "462        0.0  \n",
              "1128       0.0  \n",
              "502        0.0  \n",
              "775        0.0  \n",
              "608   0.041096  "
            ],
            "text/html": [
              "\n",
              "  <div id=\"df-4be314e0-5a08-4a50-bd85-a00534f74400\">\n",
              "    <div class=\"colab-df-container\">\n",
              "      <div>\n",
              "<style scoped>\n",
              "    .dataframe tbody tr th:only-of-type {\n",
              "        vertical-align: middle;\n",
              "    }\n",
              "\n",
              "    .dataframe tbody tr th {\n",
              "        vertical-align: top;\n",
              "    }\n",
              "\n",
              "    .dataframe thead th {\n",
              "        text-align: right;\n",
              "    }\n",
              "</style>\n",
              "<table border=\"1\" class=\"dataframe\">\n",
              "  <thead>\n",
              "    <tr style=\"text-align: right;\">\n",
              "      <th></th>\n",
              "      <th>im_name</th>\n",
              "      <th>clicks</th>\n",
              "      <th>shows</th>\n",
              "      <th>price</th>\n",
              "      <th>prob</th>\n",
              "    </tr>\n",
              "  </thead>\n",
              "  <tbody>\n",
              "    <tr>\n",
              "      <th>462</th>\n",
              "      <td>43db52820c909b5cc6a87f1d31a29fa55bd08aab.jpg</td>\n",
              "      <td>0</td>\n",
              "      <td>3</td>\n",
              "      <td>320000.0</td>\n",
              "      <td>0.0</td>\n",
              "    </tr>\n",
              "    <tr>\n",
              "      <th>1128</th>\n",
              "      <td>a7a95a1621d91286e737bad984d0b8b8756864ff.jpg</td>\n",
              "      <td>0</td>\n",
              "      <td>10</td>\n",
              "      <td>120000.0</td>\n",
              "      <td>0.0</td>\n",
              "    </tr>\n",
              "    <tr>\n",
              "      <th>502</th>\n",
              "      <td>4a45d88ccae341c9b0a67004c501bebe.jpg</td>\n",
              "      <td>0</td>\n",
              "      <td>16</td>\n",
              "      <td>294000.0</td>\n",
              "      <td>0.0</td>\n",
              "    </tr>\n",
              "    <tr>\n",
              "      <th>775</th>\n",
              "      <td>7291f662c94737643698b1b652fd38466ea15817.jpg</td>\n",
              "      <td>0</td>\n",
              "      <td>3</td>\n",
              "      <td>3600000.0</td>\n",
              "      <td>0.0</td>\n",
              "    </tr>\n",
              "    <tr>\n",
              "      <th>608</th>\n",
              "      <td>593a5e2443214b5e80eaa69546a379de.jpg</td>\n",
              "      <td>3</td>\n",
              "      <td>73</td>\n",
              "      <td>216000.0</td>\n",
              "      <td>0.041096</td>\n",
              "    </tr>\n",
              "  </tbody>\n",
              "</table>\n",
              "</div>\n",
              "      <button class=\"colab-df-convert\" onclick=\"convertToInteractive('df-4be314e0-5a08-4a50-bd85-a00534f74400')\"\n",
              "              title=\"Convert this dataframe to an interactive table.\"\n",
              "              style=\"display:none;\">\n",
              "        \n",
              "  <svg xmlns=\"http://www.w3.org/2000/svg\" height=\"24px\"viewBox=\"0 0 24 24\"\n",
              "       width=\"24px\">\n",
              "    <path d=\"M0 0h24v24H0V0z\" fill=\"none\"/>\n",
              "    <path d=\"M18.56 5.44l.94 2.06.94-2.06 2.06-.94-2.06-.94-.94-2.06-.94 2.06-2.06.94zm-11 1L8.5 8.5l.94-2.06 2.06-.94-2.06-.94L8.5 2.5l-.94 2.06-2.06.94zm10 10l.94 2.06.94-2.06 2.06-.94-2.06-.94-.94-2.06-.94 2.06-2.06.94z\"/><path d=\"M17.41 7.96l-1.37-1.37c-.4-.4-.92-.59-1.43-.59-.52 0-1.04.2-1.43.59L10.3 9.45l-7.72 7.72c-.78.78-.78 2.05 0 2.83L4 21.41c.39.39.9.59 1.41.59.51 0 1.02-.2 1.41-.59l7.78-7.78 2.81-2.81c.8-.78.8-2.07 0-2.86zM5.41 20L4 18.59l7.72-7.72 1.47 1.35L5.41 20z\"/>\n",
              "  </svg>\n",
              "      </button>\n",
              "      \n",
              "  <style>\n",
              "    .colab-df-container {\n",
              "      display:flex;\n",
              "      flex-wrap:wrap;\n",
              "      gap: 12px;\n",
              "    }\n",
              "\n",
              "    .colab-df-convert {\n",
              "      background-color: #E8F0FE;\n",
              "      border: none;\n",
              "      border-radius: 50%;\n",
              "      cursor: pointer;\n",
              "      display: none;\n",
              "      fill: #1967D2;\n",
              "      height: 32px;\n",
              "      padding: 0 0 0 0;\n",
              "      width: 32px;\n",
              "    }\n",
              "\n",
              "    .colab-df-convert:hover {\n",
              "      background-color: #E2EBFA;\n",
              "      box-shadow: 0px 1px 2px rgba(60, 64, 67, 0.3), 0px 1px 3px 1px rgba(60, 64, 67, 0.15);\n",
              "      fill: #174EA6;\n",
              "    }\n",
              "\n",
              "    [theme=dark] .colab-df-convert {\n",
              "      background-color: #3B4455;\n",
              "      fill: #D2E3FC;\n",
              "    }\n",
              "\n",
              "    [theme=dark] .colab-df-convert:hover {\n",
              "      background-color: #434B5C;\n",
              "      box-shadow: 0px 1px 3px 1px rgba(0, 0, 0, 0.15);\n",
              "      filter: drop-shadow(0px 1px 2px rgba(0, 0, 0, 0.3));\n",
              "      fill: #FFFFFF;\n",
              "    }\n",
              "  </style>\n",
              "\n",
              "      <script>\n",
              "        const buttonEl =\n",
              "          document.querySelector('#df-4be314e0-5a08-4a50-bd85-a00534f74400 button.colab-df-convert');\n",
              "        buttonEl.style.display =\n",
              "          google.colab.kernel.accessAllowed ? 'block' : 'none';\n",
              "\n",
              "        async function convertToInteractive(key) {\n",
              "          const element = document.querySelector('#df-4be314e0-5a08-4a50-bd85-a00534f74400');\n",
              "          const dataTable =\n",
              "            await google.colab.kernel.invokeFunction('convertToInteractive',\n",
              "                                                     [key], {});\n",
              "          if (!dataTable) return;\n",
              "\n",
              "          const docLinkHtml = 'Like what you see? Visit the ' +\n",
              "            '<a target=\"_blank\" href=https://colab.research.google.com/notebooks/data_table.ipynb>data table notebook</a>'\n",
              "            + ' to learn more about interactive tables.';\n",
              "          element.innerHTML = '';\n",
              "          dataTable['output_type'] = 'display_data';\n",
              "          await google.colab.output.renderOutput(dataTable, element);\n",
              "          const docLink = document.createElement('div');\n",
              "          docLink.innerHTML = docLinkHtml;\n",
              "          element.appendChild(docLink);\n",
              "        }\n",
              "      </script>\n",
              "    </div>\n",
              "  </div>\n",
              "  "
            ]
          },
          "metadata": {},
          "execution_count": 91
        }
      ],
      "source": [
        "prob_table['prob'] = None\n",
        "prob_table['prob'].loc[prob_table['shows'] != 0] = prob_table['clicks'] / prob_table['shows']\n",
        "prob_table['prob'].loc[prob_table['shows'] == 0] = 0\n",
        "prob_table.sample(5)"
      ]
    },
    {
      "cell_type": "code",
      "source": [
        "prob_table.shape"
      ],
      "metadata": {
        "colab": {
          "base_uri": "https://localhost:8080/"
        },
        "id": "3NzLtdWkAWpi",
        "outputId": "6d2b56ca-da08-4082-b8a4-afec5ecbaf49"
      },
      "id": "3NzLtdWkAWpi",
      "execution_count": null,
      "outputs": [
        {
          "output_type": "execute_result",
          "data": {
            "text/plain": [
              "(1765, 5)"
            ]
          },
          "metadata": {},
          "execution_count": 92
        }
      ]
    },
    {
      "cell_type": "code",
      "execution_count": null,
      "id": "20e9c1c4",
      "metadata": {
        "id": "20e9c1c4"
      },
      "outputs": [],
      "source": [
        "prob_table = prob_table.drop(prob_table['prob'].loc[prob_table['shows'] == 0].index)"
      ]
    },
    {
      "cell_type": "code",
      "source": [
        "prob_table = prob_table.reset_index()"
      ],
      "metadata": {
        "id": "oC7WGB0WGpZD"
      },
      "id": "oC7WGB0WGpZD",
      "execution_count": null,
      "outputs": []
    },
    {
      "cell_type": "code",
      "execution_count": null,
      "id": "f1550831",
      "metadata": {
        "id": "f1550831"
      },
      "outputs": [],
      "source": [
        "class Dom_Click_Dataset(torch.utils.data.Dataset):\n",
        "    def __init__(self, X, y=None, transform=None):\n",
        "        self.const_dir = './DomClickData/dom_click_data/data_hse/'\n",
        "        self.transform = transform\n",
        "        self.num_elem = len(X)\n",
        "        self.X = X\n",
        "        self.target = y\n",
        "\n",
        "    def __getitem__(self, idx):\n",
        "        im_name = self.X.iloc[idx]\n",
        "        image = torchvision.io.read_image(im_name) / 255\n",
        "\n",
        "        if (self.transform is not None):\n",
        "            image = self.transform(image)\n",
        "        if (self.target is not None):\n",
        "            # return image, torch.Tensor(self.X.iloc[idx][['Cardiomegaly', 'Edema', 'Consolidation', 'Atelectasis', 'Pleural Effusion']])\n",
        "            return image, self.target.iloc[idx]\n",
        "        return image\n",
        "    \n",
        "    def __len__(self):\n",
        "        return self.num_elem"
      ]
    },
    {
      "cell_type": "code",
      "execution_count": null,
      "id": "044cc290",
      "metadata": {
        "id": "044cc290"
      },
      "outputs": [],
      "source": [
        "import torchvision.transforms as T\n",
        "\n",
        "data_transform = nn.Sequential(\n",
        "    T.CenterCrop(240),\n",
        "    T.Resize(256),\n",
        "    T.Normalize(mean=[0.485, 0.456, 0.406], \n",
        "                         std=[0.229, 0.224, 0.225])\n",
        ")"
      ]
    },
    {
      "cell_type": "code",
      "execution_count": null,
      "id": "375e45a2",
      "metadata": {
        "colab": {
          "base_uri": "https://localhost:8080/"
        },
        "id": "375e45a2",
        "outputId": "842bf63b-f1e3-4257-cc8f-6cdcdcdd31e2"
      },
      "outputs": [
        {
          "output_type": "execute_result",
          "data": {
            "text/plain": [
              "(1736, 5)"
            ]
          },
          "metadata": {},
          "execution_count": 73
        }
      ],
      "source": [
        "prob_table.shape"
      ]
    },
    {
      "cell_type": "code",
      "execution_count": null,
      "id": "5dc4e02c",
      "metadata": {
        "id": "5dc4e02c"
      },
      "outputs": [],
      "source": [
        "# dom_click_table[dom_click_table['im_name'] == '3e88729975ca610261e321a51a7b83932ef50565.jpg']\n",
        "# dom_click_table[dom_click_table['im_name'] == 'fdf2eac88c8b06eda29c03ee55ee4dc2d94ddeed.jpg']\n",
        "# dom_click_table[dom_click_table['im_name'] == '8d82c8b415cbd34a2c5606e2c881609cd10eaed2.jpg']\n"
      ]
    },
    {
      "cell_type": "code",
      "execution_count": null,
      "id": "3415c281",
      "metadata": {
        "id": "3415c281"
      },
      "outputs": [],
      "source": [
        "# dom_click_table = dom_click_table.drop([3733, 4294, 4295, 4296])"
      ]
    },
    {
      "cell_type": "code",
      "source": [
        "prob_table['im_name'] = 'data_hse/' + prob_table['im_name']"
      ],
      "metadata": {
        "id": "I2TnWA3zBD92"
      },
      "id": "I2TnWA3zBD92",
      "execution_count": null,
      "outputs": []
    },
    {
      "cell_type": "code",
      "execution_count": null,
      "id": "32d09745",
      "metadata": {
        "id": "32d09745"
      },
      "outputs": [],
      "source": [
        "from torch.utils.data import DataLoader\n",
        "dataset = Dom_Click_Dataset(prob_table['im_name'], None, transform=data_transform)\n",
        "batch_size=1\n",
        "dataset_loader = DataLoader(dataset, batch_size=batch_size, shuffle=False)"
      ]
    },
    {
      "cell_type": "code",
      "source": [
        "drop_list = []\n",
        "for i in range(len(prob_table)):\n",
        "    try:\n",
        "        dataset[i].shape\n",
        "    except:\n",
        "        drop_list += [i]"
      ],
      "metadata": {
        "colab": {
          "base_uri": "https://localhost:8080/"
        },
        "id": "zpQQUGj2FrQh",
        "outputId": "b56e7024-a1f1-4e1a-8156-54cdc52cc093"
      },
      "id": "zpQQUGj2FrQh",
      "execution_count": null,
      "outputs": [
        {
          "output_type": "stream",
          "name": "stderr",
          "text": [
            "/usr/local/lib/python3.10/dist-packages/torchvision/transforms/functional.py:1603: UserWarning: The default value of the antialias parameter of all the resizing transforms (Resize(), RandomResizedCrop(), etc.) will change from None to True in v0.17, in order to be consistent across the PIL and Tensor backends. To suppress this warning, directly pass antialias=True (recommended, future default), antialias=None (current default, which means False for Tensors and True for PIL), or antialias=False (only works on Tensors - PIL will still use antialiasing). This also applies if you are using the inference transforms from the models weights: update the call to weights.transforms(antialias=True).\n",
            "  warnings.warn(\n"
          ]
        }
      ]
    },
    {
      "cell_type": "code",
      "source": [
        "prob_table = prob_table.drop(drop_list)"
      ],
      "metadata": {
        "id": "DZoVkxl2GD2z"
      },
      "id": "DZoVkxl2GD2z",
      "execution_count": null,
      "outputs": []
    },
    {
      "cell_type": "code",
      "source": [
        "prob_table = prob_table.reset_index().drop(columns = ['level_0', 'index'])"
      ],
      "metadata": {
        "id": "oZK6N-ZFG4Nw"
      },
      "id": "oZK6N-ZFG4Nw",
      "execution_count": null,
      "outputs": []
    },
    {
      "cell_type": "code",
      "source": [
        "dataset = Dom_Click_Dataset(prob_table['im_name'], None, transform=data_transform)\n",
        "batch_size=1\n",
        "dataset_loader = DataLoader(dataset, batch_size=batch_size, shuffle=False)"
      ],
      "metadata": {
        "id": "CzccFT6AJI2r"
      },
      "id": "CzccFT6AJI2r",
      "execution_count": null,
      "outputs": []
    },
    {
      "cell_type": "code",
      "source": [
        "prob_table['im_name'][1]"
      ],
      "metadata": {
        "colab": {
          "base_uri": "https://localhost:8080/",
          "height": 37
        },
        "id": "y8oOYLhOC0Pd",
        "outputId": "40c9e596-18f7-48f2-e88a-8cb5135e6c2d"
      },
      "id": "y8oOYLhOC0Pd",
      "execution_count": null,
      "outputs": [
        {
          "output_type": "execute_result",
          "data": {
            "text/plain": [
              "'data_hse/0025305cb40c5bae7d1acba5e079eb7e8c02a8a8.jpg'"
            ],
            "application/vnd.google.colaboratory.intrinsic+json": {
              "type": "string"
            }
          },
          "metadata": {},
          "execution_count": 103
        }
      ]
    },
    {
      "cell_type": "code",
      "source": [
        "torchvision.io.read_image(prob_table['im_name'][0])"
      ],
      "metadata": {
        "colab": {
          "base_uri": "https://localhost:8080/"
        },
        "id": "RTT9POX_CzRr",
        "outputId": "50ce62bf-67b6-4b25-cffc-3020099bb55b"
      },
      "id": "RTT9POX_CzRr",
      "execution_count": null,
      "outputs": [
        {
          "output_type": "execute_result",
          "data": {
            "text/plain": [
              "tensor([[[104, 104, 106,  ..., 117, 117, 116],\n",
              "         [106, 106, 106,  ..., 118, 118, 117],\n",
              "         [105, 105, 106,  ..., 119, 119, 119],\n",
              "         ...,\n",
              "         [ 90,  88,  89,  ...,  16,  16,  16],\n",
              "         [ 93,  91,  93,  ...,  18,  21,  20],\n",
              "         [ 95,  92,  93,  ...,  20,  23,  21]],\n",
              "\n",
              "        [[ 79,  79,  81,  ..., 110, 110, 109],\n",
              "         [ 81,  81,  81,  ..., 111, 111, 110],\n",
              "         [ 80,  80,  81,  ..., 112, 112, 112],\n",
              "         ...,\n",
              "         [ 67,  65,  66,  ...,  11,  14,  14],\n",
              "         [ 70,  68,  70,  ...,  13,  16,  15],\n",
              "         [ 72,  69,  70,  ...,  15,  18,  16]],\n",
              "\n",
              "        [[ 57,  57,  59,  ...,  92,  94,  93],\n",
              "         [ 59,  59,  59,  ...,  93,  95,  94],\n",
              "         [ 58,  58,  59,  ...,  96,  96,  96],\n",
              "         ...,\n",
              "         [ 53,  51,  52,  ...,  17,  19,  19],\n",
              "         [ 56,  54,  56,  ...,  19,  22,  21],\n",
              "         [ 58,  55,  56,  ...,  21,  24,  22]]], dtype=torch.uint8)"
            ]
          },
          "metadata": {},
          "execution_count": 104
        }
      ]
    },
    {
      "cell_type": "code",
      "execution_count": null,
      "id": "62731043",
      "metadata": {
        "id": "62731043"
      },
      "outputs": [],
      "source": [
        "model = torch.load('/content/drive/MyDrive/Diplom/eff_net_model_86_48')\n",
        "model.eval()"
      ]
    },
    {
      "cell_type": "code",
      "execution_count": null,
      "id": "ac57e279",
      "metadata": {
        "id": "ac57e279"
      },
      "outputs": [],
      "source": [
        "class Identity(nn.Module):\n",
        "    def __init__(self):\n",
        "        super().__init__()\n",
        "        \n",
        "    def forward(self, x):\n",
        "        return x"
      ]
    },
    {
      "cell_type": "code",
      "execution_count": null,
      "id": "0d06f494",
      "metadata": {
        "id": "0d06f494"
      },
      "outputs": [],
      "source": [
        "model.classifier = Identity()"
      ]
    },
    {
      "cell_type": "code",
      "source": [
        "prob_table['img_embed'] = None"
      ],
      "metadata": {
        "id": "_ZXegY1oFGuS"
      },
      "id": "_ZXegY1oFGuS",
      "execution_count": null,
      "outputs": []
    },
    {
      "cell_type": "code",
      "execution_count": null,
      "id": "8ef02125",
      "metadata": {
        "colab": {
          "base_uri": "https://localhost:8080/",
          "height": 188,
          "referenced_widgets": [
            "101715924e074d2fa56e34f53113465f",
            "082ac6c651834c61b6682c1cc6b81826",
            "7963720af7ea41a3996eadabb524d71e",
            "090ee8ae04aa49eaa21f6ae3c7fb94c2",
            "54b3195900c64f2ea3d1e66fc5268077",
            "ebc818a1a44f470baf2bc787974bf654",
            "11f00da47d8e48d99ac498cf35cd3a63",
            "8f9e90e833704a17b9c0613b1611c81b",
            "a2bed598b5e1432c83997a952f8a68e0",
            "a83196b52e6d4a6d9d2fc27a0c775f32",
            "a692f96ad8a045508cf43fea3f329ee9"
          ]
        },
        "id": "8ef02125",
        "outputId": "bb6af3c1-fb6c-4f0c-eccc-cb5c00250d61"
      },
      "outputs": [
        {
          "output_type": "display_data",
          "data": {
            "text/plain": [
              "  0%|          | 0/1547 [00:00<?, ?it/s]"
            ],
            "application/vnd.jupyter.widget-view+json": {
              "version_major": 2,
              "version_minor": 0,
              "model_id": "101715924e074d2fa56e34f53113465f"
            }
          },
          "metadata": {}
        },
        {
          "output_type": "stream",
          "name": "stderr",
          "text": [
            "/usr/local/lib/python3.10/dist-packages/torchvision/transforms/functional.py:1603: UserWarning: The default value of the antialias parameter of all the resizing transforms (Resize(), RandomResizedCrop(), etc.) will change from None to True in v0.17, in order to be consistent across the PIL and Tensor backends. To suppress this warning, directly pass antialias=True (recommended, future default), antialias=None (current default, which means False for Tensors and True for PIL), or antialias=False (only works on Tensors - PIL will still use antialiasing). This also applies if you are using the inference transforms from the models weights: update the call to weights.transforms(antialias=True).\n",
            "  warnings.warn(\n",
            "<ipython-input-109-8718708e462e>:12: SettingWithCopyWarning: \n",
            "A value is trying to be set on a copy of a slice from a DataFrame\n",
            "\n",
            "See the caveats in the documentation: https://pandas.pydata.org/pandas-docs/stable/user_guide/indexing.html#returning-a-view-versus-a-copy\n",
            "  prob_table['img_embed'].iloc[i] = output.cpu().detach().numpy()\n"
          ]
        }
      ],
      "source": [
        "from tqdm.notebook import tqdm\n",
        "device = torch.device('cuda:0' if torch.cuda.is_available() else 'cpu')\n",
        "\n",
        "predictions = np.array([])\n",
        "true_labels = np.array([])\n",
        "i = 0\n",
        "for x_batch in tqdm(dataset_loader):\n",
        "    try:\n",
        "        data = x_batch.to(device)\n",
        "        # target = y_batch.cpu().numpy()\n",
        "        output = model(data)\n",
        "        prob_table['img_embed'].iloc[i] = output.cpu().detach().numpy()\n",
        "    except:\n",
        "        print(i)\n",
        "    i += 1"
      ]
    },
    {
      "cell_type": "code",
      "source": [
        "prob_table"
      ],
      "metadata": {
        "colab": {
          "base_uri": "https://localhost:8080/",
          "height": 419
        },
        "id": "DeFXUrl2JhBu",
        "outputId": "51dce0dc-09fd-4853-93a1-7f18508c61a6"
      },
      "id": "DeFXUrl2JhBu",
      "execution_count": null,
      "outputs": [
        {
          "output_type": "execute_result",
          "data": {
            "text/plain": [
              "                                                im_name  clicks  shows  \\\n",
              "0         data_hse/0022feeaedac4b959c5c6e375632316d.jpg       1     13   \n",
              "1     data_hse/0025305cb40c5bae7d1acba5e079eb7e8c02a...       0      1   \n",
              "2     data_hse/011e50153f2ec1796b12e1e8b0cf1d1089a74...       0      2   \n",
              "3         data_hse/0132a35df19e456991f7dcc8db13e6e8.jpg       0      4   \n",
              "4     data_hse/0146c6f8ab17ae16dbfcd4bf07192bf9346af...       0      3   \n",
              "...                                                 ...     ...    ...   \n",
              "1542  data_hse/ff07cbbb93b1a1dcafee2fd86b59ea4acf847...       2     11   \n",
              "1543  data_hse/ff51e955da55c3c463f0607a9ec85268b77aa...       0     59   \n",
              "1544  data_hse/ffb036fad456a46d6bdad135254c2abbc906d...       0      2   \n",
              "1545  data_hse/ffe57b10b6d9a064e83c5bb958a4d024f2705...       0      4   \n",
              "1546      data_hse/fff1f7887d8b47a888875aae5d30f4b0.jpg       0     26   \n",
              "\n",
              "         price      prob                                          img_embed  \n",
              "0     160000.0  0.076923  [[0.052418582, -0.12397501, 0.17204553, 0.4417...  \n",
              "1     245000.0       0.0  [[-0.012044404, -0.10706582, 0.9206433, -0.079...  \n",
              "2     165000.0       0.0  [[0.06785435, -0.076649815, 0.66985345, 0.7305...  \n",
              "3     156000.0       0.0  [[-0.04730807, -0.15744582, 0.0014863298, -0.0...  \n",
              "4     940000.0       0.0  [[0.050134186, 0.7944262, 0.39178973, -0.08922...  \n",
              "...        ...       ...                                                ...  \n",
              "1542  129000.0  0.181818  [[0.034675475, -0.059836615, 0.22403479, -0.08...  \n",
              "1543   56000.0       0.0  [[-0.08442485, -0.09079578, -0.11027831, 0.842...  \n",
              "1544  260000.0       0.0  [[0.027945686, 0.48572183, 0.31887877, -0.0540...  \n",
              "1545  190000.0       0.0  [[-0.07170361, -0.1269826, -0.13211381, 0.1279...  \n",
              "1546  150000.0       0.0  [[-0.0333872, -0.011734493, 0.42349127, -0.147...  \n",
              "\n",
              "[1547 rows x 6 columns]"
            ],
            "text/html": [
              "\n",
              "  <div id=\"df-3ec78489-e992-41a9-8078-5a4a6e0c5c94\">\n",
              "    <div class=\"colab-df-container\">\n",
              "      <div>\n",
              "<style scoped>\n",
              "    .dataframe tbody tr th:only-of-type {\n",
              "        vertical-align: middle;\n",
              "    }\n",
              "\n",
              "    .dataframe tbody tr th {\n",
              "        vertical-align: top;\n",
              "    }\n",
              "\n",
              "    .dataframe thead th {\n",
              "        text-align: right;\n",
              "    }\n",
              "</style>\n",
              "<table border=\"1\" class=\"dataframe\">\n",
              "  <thead>\n",
              "    <tr style=\"text-align: right;\">\n",
              "      <th></th>\n",
              "      <th>im_name</th>\n",
              "      <th>clicks</th>\n",
              "      <th>shows</th>\n",
              "      <th>price</th>\n",
              "      <th>prob</th>\n",
              "      <th>img_embed</th>\n",
              "    </tr>\n",
              "  </thead>\n",
              "  <tbody>\n",
              "    <tr>\n",
              "      <th>0</th>\n",
              "      <td>data_hse/0022feeaedac4b959c5c6e375632316d.jpg</td>\n",
              "      <td>1</td>\n",
              "      <td>13</td>\n",
              "      <td>160000.0</td>\n",
              "      <td>0.076923</td>\n",
              "      <td>[[0.052418582, -0.12397501, 0.17204553, 0.4417...</td>\n",
              "    </tr>\n",
              "    <tr>\n",
              "      <th>1</th>\n",
              "      <td>data_hse/0025305cb40c5bae7d1acba5e079eb7e8c02a...</td>\n",
              "      <td>0</td>\n",
              "      <td>1</td>\n",
              "      <td>245000.0</td>\n",
              "      <td>0.0</td>\n",
              "      <td>[[-0.012044404, -0.10706582, 0.9206433, -0.079...</td>\n",
              "    </tr>\n",
              "    <tr>\n",
              "      <th>2</th>\n",
              "      <td>data_hse/011e50153f2ec1796b12e1e8b0cf1d1089a74...</td>\n",
              "      <td>0</td>\n",
              "      <td>2</td>\n",
              "      <td>165000.0</td>\n",
              "      <td>0.0</td>\n",
              "      <td>[[0.06785435, -0.076649815, 0.66985345, 0.7305...</td>\n",
              "    </tr>\n",
              "    <tr>\n",
              "      <th>3</th>\n",
              "      <td>data_hse/0132a35df19e456991f7dcc8db13e6e8.jpg</td>\n",
              "      <td>0</td>\n",
              "      <td>4</td>\n",
              "      <td>156000.0</td>\n",
              "      <td>0.0</td>\n",
              "      <td>[[-0.04730807, -0.15744582, 0.0014863298, -0.0...</td>\n",
              "    </tr>\n",
              "    <tr>\n",
              "      <th>4</th>\n",
              "      <td>data_hse/0146c6f8ab17ae16dbfcd4bf07192bf9346af...</td>\n",
              "      <td>0</td>\n",
              "      <td>3</td>\n",
              "      <td>940000.0</td>\n",
              "      <td>0.0</td>\n",
              "      <td>[[0.050134186, 0.7944262, 0.39178973, -0.08922...</td>\n",
              "    </tr>\n",
              "    <tr>\n",
              "      <th>...</th>\n",
              "      <td>...</td>\n",
              "      <td>...</td>\n",
              "      <td>...</td>\n",
              "      <td>...</td>\n",
              "      <td>...</td>\n",
              "      <td>...</td>\n",
              "    </tr>\n",
              "    <tr>\n",
              "      <th>1542</th>\n",
              "      <td>data_hse/ff07cbbb93b1a1dcafee2fd86b59ea4acf847...</td>\n",
              "      <td>2</td>\n",
              "      <td>11</td>\n",
              "      <td>129000.0</td>\n",
              "      <td>0.181818</td>\n",
              "      <td>[[0.034675475, -0.059836615, 0.22403479, -0.08...</td>\n",
              "    </tr>\n",
              "    <tr>\n",
              "      <th>1543</th>\n",
              "      <td>data_hse/ff51e955da55c3c463f0607a9ec85268b77aa...</td>\n",
              "      <td>0</td>\n",
              "      <td>59</td>\n",
              "      <td>56000.0</td>\n",
              "      <td>0.0</td>\n",
              "      <td>[[-0.08442485, -0.09079578, -0.11027831, 0.842...</td>\n",
              "    </tr>\n",
              "    <tr>\n",
              "      <th>1544</th>\n",
              "      <td>data_hse/ffb036fad456a46d6bdad135254c2abbc906d...</td>\n",
              "      <td>0</td>\n",
              "      <td>2</td>\n",
              "      <td>260000.0</td>\n",
              "      <td>0.0</td>\n",
              "      <td>[[0.027945686, 0.48572183, 0.31887877, -0.0540...</td>\n",
              "    </tr>\n",
              "    <tr>\n",
              "      <th>1545</th>\n",
              "      <td>data_hse/ffe57b10b6d9a064e83c5bb958a4d024f2705...</td>\n",
              "      <td>0</td>\n",
              "      <td>4</td>\n",
              "      <td>190000.0</td>\n",
              "      <td>0.0</td>\n",
              "      <td>[[-0.07170361, -0.1269826, -0.13211381, 0.1279...</td>\n",
              "    </tr>\n",
              "    <tr>\n",
              "      <th>1546</th>\n",
              "      <td>data_hse/fff1f7887d8b47a888875aae5d30f4b0.jpg</td>\n",
              "      <td>0</td>\n",
              "      <td>26</td>\n",
              "      <td>150000.0</td>\n",
              "      <td>0.0</td>\n",
              "      <td>[[-0.0333872, -0.011734493, 0.42349127, -0.147...</td>\n",
              "    </tr>\n",
              "  </tbody>\n",
              "</table>\n",
              "<p>1547 rows × 6 columns</p>\n",
              "</div>\n",
              "      <button class=\"colab-df-convert\" onclick=\"convertToInteractive('df-3ec78489-e992-41a9-8078-5a4a6e0c5c94')\"\n",
              "              title=\"Convert this dataframe to an interactive table.\"\n",
              "              style=\"display:none;\">\n",
              "        \n",
              "  <svg xmlns=\"http://www.w3.org/2000/svg\" height=\"24px\"viewBox=\"0 0 24 24\"\n",
              "       width=\"24px\">\n",
              "    <path d=\"M0 0h24v24H0V0z\" fill=\"none\"/>\n",
              "    <path d=\"M18.56 5.44l.94 2.06.94-2.06 2.06-.94-2.06-.94-.94-2.06-.94 2.06-2.06.94zm-11 1L8.5 8.5l.94-2.06 2.06-.94-2.06-.94L8.5 2.5l-.94 2.06-2.06.94zm10 10l.94 2.06.94-2.06 2.06-.94-2.06-.94-.94-2.06-.94 2.06-2.06.94z\"/><path d=\"M17.41 7.96l-1.37-1.37c-.4-.4-.92-.59-1.43-.59-.52 0-1.04.2-1.43.59L10.3 9.45l-7.72 7.72c-.78.78-.78 2.05 0 2.83L4 21.41c.39.39.9.59 1.41.59.51 0 1.02-.2 1.41-.59l7.78-7.78 2.81-2.81c.8-.78.8-2.07 0-2.86zM5.41 20L4 18.59l7.72-7.72 1.47 1.35L5.41 20z\"/>\n",
              "  </svg>\n",
              "      </button>\n",
              "      \n",
              "  <style>\n",
              "    .colab-df-container {\n",
              "      display:flex;\n",
              "      flex-wrap:wrap;\n",
              "      gap: 12px;\n",
              "    }\n",
              "\n",
              "    .colab-df-convert {\n",
              "      background-color: #E8F0FE;\n",
              "      border: none;\n",
              "      border-radius: 50%;\n",
              "      cursor: pointer;\n",
              "      display: none;\n",
              "      fill: #1967D2;\n",
              "      height: 32px;\n",
              "      padding: 0 0 0 0;\n",
              "      width: 32px;\n",
              "    }\n",
              "\n",
              "    .colab-df-convert:hover {\n",
              "      background-color: #E2EBFA;\n",
              "      box-shadow: 0px 1px 2px rgba(60, 64, 67, 0.3), 0px 1px 3px 1px rgba(60, 64, 67, 0.15);\n",
              "      fill: #174EA6;\n",
              "    }\n",
              "\n",
              "    [theme=dark] .colab-df-convert {\n",
              "      background-color: #3B4455;\n",
              "      fill: #D2E3FC;\n",
              "    }\n",
              "\n",
              "    [theme=dark] .colab-df-convert:hover {\n",
              "      background-color: #434B5C;\n",
              "      box-shadow: 0px 1px 3px 1px rgba(0, 0, 0, 0.15);\n",
              "      filter: drop-shadow(0px 1px 2px rgba(0, 0, 0, 0.3));\n",
              "      fill: #FFFFFF;\n",
              "    }\n",
              "  </style>\n",
              "\n",
              "      <script>\n",
              "        const buttonEl =\n",
              "          document.querySelector('#df-3ec78489-e992-41a9-8078-5a4a6e0c5c94 button.colab-df-convert');\n",
              "        buttonEl.style.display =\n",
              "          google.colab.kernel.accessAllowed ? 'block' : 'none';\n",
              "\n",
              "        async function convertToInteractive(key) {\n",
              "          const element = document.querySelector('#df-3ec78489-e992-41a9-8078-5a4a6e0c5c94');\n",
              "          const dataTable =\n",
              "            await google.colab.kernel.invokeFunction('convertToInteractive',\n",
              "                                                     [key], {});\n",
              "          if (!dataTable) return;\n",
              "\n",
              "          const docLinkHtml = 'Like what you see? Visit the ' +\n",
              "            '<a target=\"_blank\" href=https://colab.research.google.com/notebooks/data_table.ipynb>data table notebook</a>'\n",
              "            + ' to learn more about interactive tables.';\n",
              "          element.innerHTML = '';\n",
              "          dataTable['output_type'] = 'display_data';\n",
              "          await google.colab.output.renderOutput(dataTable, element);\n",
              "          const docLink = document.createElement('div');\n",
              "          docLink.innerHTML = docLinkHtml;\n",
              "          element.appendChild(docLink);\n",
              "        }\n",
              "      </script>\n",
              "    </div>\n",
              "  </div>\n",
              "  "
            ]
          },
          "metadata": {},
          "execution_count": 110
        }
      ]
    },
    {
      "cell_type": "code",
      "source": [
        "df3 = pd.DataFrame()"
      ],
      "metadata": {
        "id": "QaOugT38LUFR"
      },
      "id": "QaOugT38LUFR",
      "execution_count": null,
      "outputs": []
    },
    {
      "cell_type": "code",
      "source": [
        "prob_table.shape\n",
        "len(prob_table)"
      ],
      "metadata": {
        "colab": {
          "base_uri": "https://localhost:8080/"
        },
        "id": "kDIosYcJQm_w",
        "outputId": "c8668f5f-3a65-48ae-fd27-e2af475a4ecc"
      },
      "id": "kDIosYcJQm_w",
      "execution_count": null,
      "outputs": [
        {
          "output_type": "execute_result",
          "data": {
            "text/plain": [
              "1547"
            ]
          },
          "metadata": {},
          "execution_count": 136
        }
      ]
    },
    {
      "cell_type": "code",
      "execution_count": null,
      "id": "0aeb2fcb",
      "metadata": {
        "id": "0aeb2fcb"
      },
      "outputs": [],
      "source": [
        "for i in range(len(prob_table)):\n",
        "    df3 = pd.concat([df3, pd.DataFrame(prob_table['img_embed'].iloc[i].tolist())])"
      ]
    },
    {
      "cell_type": "code",
      "execution_count": null,
      "id": "72a74331",
      "metadata": {
        "id": "72a74331"
      },
      "outputs": [],
      "source": [
        "df3 = df3.reset_index().drop(columns = ['index'])"
      ]
    },
    {
      "cell_type": "code",
      "source": [
        "df3['clicks'] = prob_table['clicks']\n",
        "df3['shows'] = prob_table['shows']\n",
        "df3['price'] = prob_table['price']\n",
        "df3['prob'] = prob_table['prob']\n",
        "df3['im_name'] = prob_table['im_name']"
      ],
      "metadata": {
        "id": "1H_K9BgvRrU0"
      },
      "id": "1H_K9BgvRrU0",
      "execution_count": null,
      "outputs": []
    },
    {
      "cell_type": "code",
      "source": [
        "df3.to_csv('Domclick_embeds_after_rep_type_classification')"
      ],
      "metadata": {
        "id": "1fGytH1tS2SU"
      },
      "id": "1fGytH1tS2SU",
      "execution_count": null,
      "outputs": []
    },
    {
      "cell_type": "markdown",
      "id": "53df6db1",
      "metadata": {
        "id": "53df6db1"
      },
      "source": [
        "# Clustering"
      ]
    },
    {
      "cell_type": "code",
      "execution_count": null,
      "id": "647cee40",
      "metadata": {
        "colab": {
          "base_uri": "https://localhost:8080/"
        },
        "id": "647cee40",
        "outputId": "d390c4cd-8301-4fca-e839-84580d6f5bf9"
      },
      "outputs": [
        {
          "output_type": "stream",
          "name": "stderr",
          "text": [
            "/usr/local/lib/python3.10/dist-packages/sklearn/cluster/_kmeans.py:870: FutureWarning: The default value of `n_init` will change from 10 to 'auto' in 1.4. Set the value of `n_init` explicitly to suppress the warning\n",
            "  warnings.warn(\n"
          ]
        },
        {
          "output_type": "execute_result",
          "data": {
            "text/plain": [
              "array([1, 2, 0, ..., 6, 3, 6], dtype=int32)"
            ]
          },
          "metadata": {},
          "execution_count": 148
        }
      ],
      "source": [
        "from sklearn.cluster import KMeans\n",
        "num = 7\n",
        "kmeans = KMeans(n_clusters=num)\n",
        "kmeans.fit_predict(df3.iloc[:, range(0, 1280)])"
      ]
    },
    {
      "cell_type": "code",
      "source": [
        "labels = kmeans.labels_"
      ],
      "metadata": {
        "id": "5GPz-8zOTju8"
      },
      "id": "5GPz-8zOTju8",
      "execution_count": null,
      "outputs": []
    },
    {
      "cell_type": "code",
      "execution_count": null,
      "id": "cb41dad3",
      "metadata": {
        "colab": {
          "base_uri": "https://localhost:8080/"
        },
        "id": "cb41dad3",
        "outputId": "f0e0356c-0cdc-456e-b0a0-918ce6742308"
      },
      "outputs": [
        {
          "output_type": "stream",
          "name": "stdout",
          "text": [
            "NUM ELEMS IN CLASS: 198  MEAN: 0.006705019590854686\n",
            "NUM ELEMS IN CLASS: 136  MEAN: 0.023176402986770043\n",
            "NUM ELEMS IN CLASS: 253  MEAN: 0.02314993425226052\n",
            "NUM ELEMS IN CLASS: 294  MEAN: 0.02538638361353595\n",
            "NUM ELEMS IN CLASS: 98  MEAN: 0.031118589335116582\n",
            "NUM ELEMS IN CLASS: 260  MEAN: 0.007442814572958585\n",
            "NUM ELEMS IN CLASS: 308  MEAN: 0.022327317809190037\n"
          ]
        }
      ],
      "source": [
        "for i in range(num):\n",
        "    print('NUM ELEMS IN CLASS:', (labels == i).sum(), ' MEAN:', prob_table[labels == i]['prob'].mean())"
      ]
    },
    {
      "cell_type": "code",
      "execution_count": null,
      "id": "e16d5ecf",
      "metadata": {
        "id": "e16d5ecf",
        "outputId": "25b9d745-2065-4276-8d0b-6ab47c7f1058"
      },
      "outputs": [
        {
          "data": {
            "text/html": [
              "<div>\n",
              "<style scoped>\n",
              "    .dataframe tbody tr th:only-of-type {\n",
              "        vertical-align: middle;\n",
              "    }\n",
              "\n",
              "    .dataframe tbody tr th {\n",
              "        vertical-align: top;\n",
              "    }\n",
              "\n",
              "    .dataframe thead th {\n",
              "        text-align: right;\n",
              "    }\n",
              "</style>\n",
              "<table border=\"1\" class=\"dataframe\">\n",
              "  <thead>\n",
              "    <tr style=\"text-align: right;\">\n",
              "      <th></th>\n",
              "      <th>im_name</th>\n",
              "      <th>clicks</th>\n",
              "      <th>shows</th>\n",
              "      <th>prob</th>\n",
              "      <th>img_embed</th>\n",
              "    </tr>\n",
              "  </thead>\n",
              "  <tbody>\n",
              "    <tr>\n",
              "      <th>1092</th>\n",
              "      <td>5dee3b904d3950c75c86e8d6e05abd3e854a4f0e.jpg</td>\n",
              "      <td>0</td>\n",
              "      <td>1</td>\n",
              "      <td>0.000000</td>\n",
              "      <td>[-0.113018826, -0.14722648, -0.15318014, -0.11...</td>\n",
              "    </tr>\n",
              "    <tr>\n",
              "      <th>442</th>\n",
              "      <td>25dfd7e8a188827413d1af75d5e7b375d0746267.jpg</td>\n",
              "      <td>4</td>\n",
              "      <td>39</td>\n",
              "      <td>0.102564</td>\n",
              "      <td>[-0.12542851, -0.047838893, -0.12912802, -0.15...</td>\n",
              "    </tr>\n",
              "    <tr>\n",
              "      <th>2193</th>\n",
              "      <td>bf9470098ff44235b26dd0b76ac11f93.jpg</td>\n",
              "      <td>1</td>\n",
              "      <td>33</td>\n",
              "      <td>0.030303</td>\n",
              "      <td>[0.09229316, -0.19861597, -0.12639543, -0.1510...</td>\n",
              "    </tr>\n",
              "    <tr>\n",
              "      <th>843</th>\n",
              "      <td>49195d2a1271d5b3086558c30cf585e136b36474.jpg</td>\n",
              "      <td>0</td>\n",
              "      <td>38</td>\n",
              "      <td>0.000000</td>\n",
              "      <td>[-0.10827659, -0.15090899, -0.15194692, 0.3595...</td>\n",
              "    </tr>\n",
              "    <tr>\n",
              "      <th>2273</th>\n",
              "      <td>c627045cd0e12c4f26ede9b7f311941a77ee91ee.jpg</td>\n",
              "      <td>0</td>\n",
              "      <td>6</td>\n",
              "      <td>0.000000</td>\n",
              "      <td>[-0.10261335, -0.15464951, 0.022838585, 0.0013...</td>\n",
              "    </tr>\n",
              "  </tbody>\n",
              "</table>\n",
              "</div>"
            ],
            "text/plain": [
              "                                           im_name  clicks  shows      prob  \\\n",
              "1092  5dee3b904d3950c75c86e8d6e05abd3e854a4f0e.jpg       0      1  0.000000   \n",
              "442   25dfd7e8a188827413d1af75d5e7b375d0746267.jpg       4     39  0.102564   \n",
              "2193          bf9470098ff44235b26dd0b76ac11f93.jpg       1     33  0.030303   \n",
              "843   49195d2a1271d5b3086558c30cf585e136b36474.jpg       0     38  0.000000   \n",
              "2273  c627045cd0e12c4f26ede9b7f311941a77ee91ee.jpg       0      6  0.000000   \n",
              "\n",
              "                                              img_embed  \n",
              "1092  [-0.113018826, -0.14722648, -0.15318014, -0.11...  \n",
              "442   [-0.12542851, -0.047838893, -0.12912802, -0.15...  \n",
              "2193  [0.09229316, -0.19861597, -0.12639543, -0.1510...  \n",
              "843   [-0.10827659, -0.15090899, -0.15194692, 0.3595...  \n",
              "2273  [-0.10261335, -0.15464951, 0.022838585, 0.0013...  "
            ]
          },
          "execution_count": 175,
          "metadata": {},
          "output_type": "execute_result"
        }
      ],
      "source": [
        "prob_table.sample(5)#['prob'].mean()"
      ]
    },
    {
      "cell_type": "code",
      "execution_count": null,
      "id": "113c34d1",
      "metadata": {
        "id": "113c34d1",
        "outputId": "0a1df5a7-73c2-4654-ca90-6fea1f8df921"
      },
      "outputs": [
        {
          "data": {
            "text/plain": [
              "228"
            ]
          },
          "execution_count": 150,
          "metadata": {},
          "output_type": "execute_result"
        }
      ],
      "source": [
        "labels = kmeans.labels_\n",
        "(labels == 0).sum()"
      ]
    },
    {
      "cell_type": "code",
      "execution_count": null,
      "id": "386e6ffb",
      "metadata": {
        "id": "386e6ffb",
        "outputId": "bca26452-5f9a-4b75-c716-1ce79a598b11"
      },
      "outputs": [
        {
          "data": {
            "text/plain": [
              "0.02745686099418714"
            ]
          },
          "execution_count": 151,
          "metadata": {},
          "output_type": "execute_result"
        }
      ],
      "source": [
        "prob_table[labels == 0]['prob'].mean()"
      ]
    },
    {
      "cell_type": "code",
      "execution_count": null,
      "id": "dc4e7893",
      "metadata": {
        "id": "dc4e7893",
        "outputId": "4e5f18bc-3562-4c7c-a9f4-1cb2942696fd"
      },
      "outputs": [
        {
          "data": {
            "text/plain": [
              "0.02015527904783615"
            ]
          },
          "execution_count": 152,
          "metadata": {},
          "output_type": "execute_result"
        }
      ],
      "source": [
        "prob_table[labels == 1]['prob'].mean()"
      ]
    }
  ],
  "metadata": {
    "kernelspec": {
      "display_name": "Python 3",
      "language": "python",
      "name": "python3"
    },
    "language_info": {
      "codemirror_mode": {
        "name": "ipython",
        "version": 3
      },
      "file_extension": ".py",
      "mimetype": "text/x-python",
      "name": "python",
      "nbconvert_exporter": "python",
      "pygments_lexer": "ipython3",
      "version": "3.8.8"
    },
    "colab": {
      "provenance": [],
      "gpuType": "T4"
    },
    "accelerator": "GPU",
    "gpuClass": "standard",
    "widgets": {
      "application/vnd.jupyter.widget-state+json": {
        "101715924e074d2fa56e34f53113465f": {
          "model_module": "@jupyter-widgets/controls",
          "model_name": "HBoxModel",
          "model_module_version": "1.5.0",
          "state": {
            "_dom_classes": [],
            "_model_module": "@jupyter-widgets/controls",
            "_model_module_version": "1.5.0",
            "_model_name": "HBoxModel",
            "_view_count": null,
            "_view_module": "@jupyter-widgets/controls",
            "_view_module_version": "1.5.0",
            "_view_name": "HBoxView",
            "box_style": "",
            "children": [
              "IPY_MODEL_082ac6c651834c61b6682c1cc6b81826",
              "IPY_MODEL_7963720af7ea41a3996eadabb524d71e",
              "IPY_MODEL_090ee8ae04aa49eaa21f6ae3c7fb94c2"
            ],
            "layout": "IPY_MODEL_54b3195900c64f2ea3d1e66fc5268077"
          }
        },
        "082ac6c651834c61b6682c1cc6b81826": {
          "model_module": "@jupyter-widgets/controls",
          "model_name": "HTMLModel",
          "model_module_version": "1.5.0",
          "state": {
            "_dom_classes": [],
            "_model_module": "@jupyter-widgets/controls",
            "_model_module_version": "1.5.0",
            "_model_name": "HTMLModel",
            "_view_count": null,
            "_view_module": "@jupyter-widgets/controls",
            "_view_module_version": "1.5.0",
            "_view_name": "HTMLView",
            "description": "",
            "description_tooltip": null,
            "layout": "IPY_MODEL_ebc818a1a44f470baf2bc787974bf654",
            "placeholder": "​",
            "style": "IPY_MODEL_11f00da47d8e48d99ac498cf35cd3a63",
            "value": "100%"
          }
        },
        "7963720af7ea41a3996eadabb524d71e": {
          "model_module": "@jupyter-widgets/controls",
          "model_name": "FloatProgressModel",
          "model_module_version": "1.5.0",
          "state": {
            "_dom_classes": [],
            "_model_module": "@jupyter-widgets/controls",
            "_model_module_version": "1.5.0",
            "_model_name": "FloatProgressModel",
            "_view_count": null,
            "_view_module": "@jupyter-widgets/controls",
            "_view_module_version": "1.5.0",
            "_view_name": "ProgressView",
            "bar_style": "success",
            "description": "",
            "description_tooltip": null,
            "layout": "IPY_MODEL_8f9e90e833704a17b9c0613b1611c81b",
            "max": 1547,
            "min": 0,
            "orientation": "horizontal",
            "style": "IPY_MODEL_a2bed598b5e1432c83997a952f8a68e0",
            "value": 1547
          }
        },
        "090ee8ae04aa49eaa21f6ae3c7fb94c2": {
          "model_module": "@jupyter-widgets/controls",
          "model_name": "HTMLModel",
          "model_module_version": "1.5.0",
          "state": {
            "_dom_classes": [],
            "_model_module": "@jupyter-widgets/controls",
            "_model_module_version": "1.5.0",
            "_model_name": "HTMLModel",
            "_view_count": null,
            "_view_module": "@jupyter-widgets/controls",
            "_view_module_version": "1.5.0",
            "_view_name": "HTMLView",
            "description": "",
            "description_tooltip": null,
            "layout": "IPY_MODEL_a83196b52e6d4a6d9d2fc27a0c775f32",
            "placeholder": "​",
            "style": "IPY_MODEL_a692f96ad8a045508cf43fea3f329ee9",
            "value": " 1547/1547 [00:35&lt;00:00, 47.54it/s]"
          }
        },
        "54b3195900c64f2ea3d1e66fc5268077": {
          "model_module": "@jupyter-widgets/base",
          "model_name": "LayoutModel",
          "model_module_version": "1.2.0",
          "state": {
            "_model_module": "@jupyter-widgets/base",
            "_model_module_version": "1.2.0",
            "_model_name": "LayoutModel",
            "_view_count": null,
            "_view_module": "@jupyter-widgets/base",
            "_view_module_version": "1.2.0",
            "_view_name": "LayoutView",
            "align_content": null,
            "align_items": null,
            "align_self": null,
            "border": null,
            "bottom": null,
            "display": null,
            "flex": null,
            "flex_flow": null,
            "grid_area": null,
            "grid_auto_columns": null,
            "grid_auto_flow": null,
            "grid_auto_rows": null,
            "grid_column": null,
            "grid_gap": null,
            "grid_row": null,
            "grid_template_areas": null,
            "grid_template_columns": null,
            "grid_template_rows": null,
            "height": null,
            "justify_content": null,
            "justify_items": null,
            "left": null,
            "margin": null,
            "max_height": null,
            "max_width": null,
            "min_height": null,
            "min_width": null,
            "object_fit": null,
            "object_position": null,
            "order": null,
            "overflow": null,
            "overflow_x": null,
            "overflow_y": null,
            "padding": null,
            "right": null,
            "top": null,
            "visibility": null,
            "width": null
          }
        },
        "ebc818a1a44f470baf2bc787974bf654": {
          "model_module": "@jupyter-widgets/base",
          "model_name": "LayoutModel",
          "model_module_version": "1.2.0",
          "state": {
            "_model_module": "@jupyter-widgets/base",
            "_model_module_version": "1.2.0",
            "_model_name": "LayoutModel",
            "_view_count": null,
            "_view_module": "@jupyter-widgets/base",
            "_view_module_version": "1.2.0",
            "_view_name": "LayoutView",
            "align_content": null,
            "align_items": null,
            "align_self": null,
            "border": null,
            "bottom": null,
            "display": null,
            "flex": null,
            "flex_flow": null,
            "grid_area": null,
            "grid_auto_columns": null,
            "grid_auto_flow": null,
            "grid_auto_rows": null,
            "grid_column": null,
            "grid_gap": null,
            "grid_row": null,
            "grid_template_areas": null,
            "grid_template_columns": null,
            "grid_template_rows": null,
            "height": null,
            "justify_content": null,
            "justify_items": null,
            "left": null,
            "margin": null,
            "max_height": null,
            "max_width": null,
            "min_height": null,
            "min_width": null,
            "object_fit": null,
            "object_position": null,
            "order": null,
            "overflow": null,
            "overflow_x": null,
            "overflow_y": null,
            "padding": null,
            "right": null,
            "top": null,
            "visibility": null,
            "width": null
          }
        },
        "11f00da47d8e48d99ac498cf35cd3a63": {
          "model_module": "@jupyter-widgets/controls",
          "model_name": "DescriptionStyleModel",
          "model_module_version": "1.5.0",
          "state": {
            "_model_module": "@jupyter-widgets/controls",
            "_model_module_version": "1.5.0",
            "_model_name": "DescriptionStyleModel",
            "_view_count": null,
            "_view_module": "@jupyter-widgets/base",
            "_view_module_version": "1.2.0",
            "_view_name": "StyleView",
            "description_width": ""
          }
        },
        "8f9e90e833704a17b9c0613b1611c81b": {
          "model_module": "@jupyter-widgets/base",
          "model_name": "LayoutModel",
          "model_module_version": "1.2.0",
          "state": {
            "_model_module": "@jupyter-widgets/base",
            "_model_module_version": "1.2.0",
            "_model_name": "LayoutModel",
            "_view_count": null,
            "_view_module": "@jupyter-widgets/base",
            "_view_module_version": "1.2.0",
            "_view_name": "LayoutView",
            "align_content": null,
            "align_items": null,
            "align_self": null,
            "border": null,
            "bottom": null,
            "display": null,
            "flex": null,
            "flex_flow": null,
            "grid_area": null,
            "grid_auto_columns": null,
            "grid_auto_flow": null,
            "grid_auto_rows": null,
            "grid_column": null,
            "grid_gap": null,
            "grid_row": null,
            "grid_template_areas": null,
            "grid_template_columns": null,
            "grid_template_rows": null,
            "height": null,
            "justify_content": null,
            "justify_items": null,
            "left": null,
            "margin": null,
            "max_height": null,
            "max_width": null,
            "min_height": null,
            "min_width": null,
            "object_fit": null,
            "object_position": null,
            "order": null,
            "overflow": null,
            "overflow_x": null,
            "overflow_y": null,
            "padding": null,
            "right": null,
            "top": null,
            "visibility": null,
            "width": null
          }
        },
        "a2bed598b5e1432c83997a952f8a68e0": {
          "model_module": "@jupyter-widgets/controls",
          "model_name": "ProgressStyleModel",
          "model_module_version": "1.5.0",
          "state": {
            "_model_module": "@jupyter-widgets/controls",
            "_model_module_version": "1.5.0",
            "_model_name": "ProgressStyleModel",
            "_view_count": null,
            "_view_module": "@jupyter-widgets/base",
            "_view_module_version": "1.2.0",
            "_view_name": "StyleView",
            "bar_color": null,
            "description_width": ""
          }
        },
        "a83196b52e6d4a6d9d2fc27a0c775f32": {
          "model_module": "@jupyter-widgets/base",
          "model_name": "LayoutModel",
          "model_module_version": "1.2.0",
          "state": {
            "_model_module": "@jupyter-widgets/base",
            "_model_module_version": "1.2.0",
            "_model_name": "LayoutModel",
            "_view_count": null,
            "_view_module": "@jupyter-widgets/base",
            "_view_module_version": "1.2.0",
            "_view_name": "LayoutView",
            "align_content": null,
            "align_items": null,
            "align_self": null,
            "border": null,
            "bottom": null,
            "display": null,
            "flex": null,
            "flex_flow": null,
            "grid_area": null,
            "grid_auto_columns": null,
            "grid_auto_flow": null,
            "grid_auto_rows": null,
            "grid_column": null,
            "grid_gap": null,
            "grid_row": null,
            "grid_template_areas": null,
            "grid_template_columns": null,
            "grid_template_rows": null,
            "height": null,
            "justify_content": null,
            "justify_items": null,
            "left": null,
            "margin": null,
            "max_height": null,
            "max_width": null,
            "min_height": null,
            "min_width": null,
            "object_fit": null,
            "object_position": null,
            "order": null,
            "overflow": null,
            "overflow_x": null,
            "overflow_y": null,
            "padding": null,
            "right": null,
            "top": null,
            "visibility": null,
            "width": null
          }
        },
        "a692f96ad8a045508cf43fea3f329ee9": {
          "model_module": "@jupyter-widgets/controls",
          "model_name": "DescriptionStyleModel",
          "model_module_version": "1.5.0",
          "state": {
            "_model_module": "@jupyter-widgets/controls",
            "_model_module_version": "1.5.0",
            "_model_name": "DescriptionStyleModel",
            "_view_count": null,
            "_view_module": "@jupyter-widgets/base",
            "_view_module_version": "1.2.0",
            "_view_name": "StyleView",
            "description_width": ""
          }
        }
      }
    }
  },
  "nbformat": 4,
  "nbformat_minor": 5
}