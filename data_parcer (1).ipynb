{
 "cells": [
  {
   "cell_type": "code",
   "execution_count": 2,
   "id": "61e578c1",
   "metadata": {},
   "outputs": [],
   "source": [
    "# !pip install selenium"
   ]
  },
  {
   "cell_type": "code",
   "execution_count": 12,
   "id": "efc01b40",
   "metadata": {},
   "outputs": [],
   "source": [
    "import requests\n",
    "import urllib.request\n",
    "from tqdm.notebook import tqdm\n",
    "import six\n",
    "import requests\n",
    "from bs4 import BeautifulSoup\n",
    "import pandas as pd"
   ]
  },
  {
   "cell_type": "code",
   "execution_count": 126,
   "id": "583b7231",
   "metadata": {},
   "outputs": [],
   "source": [
    "from selenium import webdriver\n",
    "from selenium.webdriver.common.by import By\n",
    "from selenium.webdriver.common.keys import Keys\n",
    "import pandas as pd\n",
    "import time\n",
    "from bs4 import BeautifulSoup\n",
    "from selenium.webdriver.support.ui import WebDriverWait\n",
    "from selenium.webdriver.support import expected_conditions as EC\n",
    "from selenium.webdriver.common.by import By\n",
    "import time"
   ]
  },
  {
   "cell_type": "code",
   "execution_count": 5,
   "id": "d499403b",
   "metadata": {},
   "outputs": [],
   "source": [
    "# option = webdriver.ChromeOptions()\n",
    "# option.add_argument(\"--disable-infobars\") \n",
    "# browser = webdriver.Chrome('C:\\webdr\\chromedriver.exe',chrome_options=option)\n",
    "# # 'https://xn--90adear.xn--p1ai/check/auto' –  ГИБДД.РФ\n",
    "# browser.get('https://www.cian.ru/sale/flat/280361768/')\n",
    "# pageSource2 = browser.execute_script(\"return document.documentElement.outerHTML;\")\n",
    "# soup = BeautifulSoup(pageSource2, 'html.parser')\n",
    "# soup.prettify()"
   ]
  },
  {
   "cell_type": "code",
   "execution_count": 6,
   "id": "857367b0",
   "metadata": {},
   "outputs": [],
   "source": [
    "# pageSource2 = browser.execute_script(\"return document.documentElement.outerHTML;\")\n",
    "# soup = BeautifulSoup(pageSource2, 'html.parser')\n",
    "# soup.prettify()"
   ]
  },
  {
   "cell_type": "code",
   "execution_count": 63,
   "id": "a6856420",
   "metadata": {},
   "outputs": [
    {
     "name": "stdout",
     "output_type": "stream",
     "text": [
      "Без ремонта\n"
     ]
    }
   ],
   "source": [
    "# i = 1\n",
    "# while i < 100:\n",
    "#     name = soup.find_all('p', 'a10a3f92e9--color_black_100--kPHhJ a10a3f92e9--lineHeight_22px--bnKK9 a10a3f92e9--fontWeight_normal--P9Ylg a10a3f92e9--fontSize_16px--RB9YW a10a3f92e9--display_block--pDAEx a10a3f92e9--text--g9xAG a10a3f92e9--text_letterSpacing__normal--xbqP6')[i].contents[0]\n",
    "#     if name == 'Дизайнерский' or name == 'Без ремонта' or name == 'Косметический' or name =='Евроремонт':\n",
    "#         print(name)\n",
    "#         break\n",
    "#     i += 1\n",
    "\n",
    "    "
   ]
  },
  {
   "cell_type": "code",
   "execution_count": 6,
   "id": "bded75e1",
   "metadata": {},
   "outputs": [
    {
     "data": {
      "text/plain": [
       "ImageClassification(\n",
       "    crop_size=[300]\n",
       "    resize_size=[320]\n",
       "    mean=[0.485, 0.456, 0.406]\n",
       "    std=[0.229, 0.224, 0.225]\n",
       "    interpolation=InterpolationMode.BICUBIC\n",
       ")"
      ]
     },
     "execution_count": 6,
     "metadata": {},
     "output_type": "execute_result"
    }
   ],
   "source": [
    "import torchvision\n",
    "from torchvision.models import efficientnet_b3, EfficientNet_B3_Weights\n",
    "model = efficientnet_b3(weights=EfficientNet_B3_Weights.IMAGENET1K_V1)\n",
    "transforms = EfficientNet_B3_Weights.IMAGENET1K_V1.transforms()\n",
    "transforms"
   ]
  },
  {
   "cell_type": "code",
   "execution_count": 229,
   "id": "37fe368d",
   "metadata": {},
   "outputs": [],
   "source": [
    "def get_first_image_link(article):\n",
    "    try:\n",
    "        img_link = article.find('li', '_93444fe79c--container--Havpv').img['src']\n",
    "    except:\n",
    "        img_link = ''\n",
    "    return img_link\n",
    "\n",
    "def get_other_images_links(browser):\n",
    "    statist_code = BeautifulSoup(browser.execute_script(\"return document.documentElement.outerHTML;\"), 'html.parser')\n",
    "    images_list = []\n",
    "    try:\n",
    "        imag_html = statist_code.find('div', 'a10a3f92e9--thumbs-wrapper--pxYPN')\n",
    "        for li in imag_html.find_all('li'):\n",
    "            images_list += [li.a.img['src']]\n",
    "        return images_list[:-1]\n",
    "    except:\n",
    "        return images_list\n",
    "\n",
    "def get_article_link(article):\n",
    "    try:\n",
    "        art_link = article.find('a', '_93444fe79c--link--eoxce')['href']\n",
    "    except:\n",
    "        art_link = ''\n",
    "    return art_link\n",
    "\n",
    "def get_repair_type(html_art_code):\n",
    "    art_code = BeautifulSoup(browser.execute_script(\"return document.documentElement.outerHTML;\"), 'html.parser')\n",
    "    repair_type = ''\n",
    "    \n",
    "    try:\n",
    "        i = 1\n",
    "        repair_type = ''\n",
    "        while i < 100:\n",
    "            name = art_code.find_all('p', 'a10a3f92e9--color_black_100--kPHhJ a10a3f92e9--lineHeight_22px--bnKK9 a10a3f92e9--fontWeight_normal--P9Ylg a10a3f92e9--fontSize_16px--RB9YW a10a3f92e9--display_block--pDAEx a10a3f92e9--text--g9xAG a10a3f92e9--text_letterSpacing__normal--xbqP6')[i].contents[0]\n",
    "            if name == 'Дизайнерский' or name == 'Без ремонта' or name == 'Косметический' or name =='Евроремонт':\n",
    "                repair_type = name\n",
    "                break\n",
    "            i += 1\n",
    "    except:\n",
    "        repair_type = ''\n",
    "        \n",
    "    if repair_type == '':\n",
    "        try:\n",
    "            while j < 100:\n",
    "                name = art_code.find_all('li', 'a10a3f92e9--item--d9uzC')[j].find('span', 'a10a3f92e9--value--Y34zN').contents[0]\n",
    "                if name == 'Дизайнерский' or name == 'Без ремонта' or name == 'Косметический' or name =='Евроремонт':\n",
    "                    repair_type = name\n",
    "                    break\n",
    "                j += 1\n",
    "        except:\n",
    "            repair_type = ''\n",
    "    return repair_type\n",
    "\n",
    "def get_view_nums(html_code):\n",
    "    try:\n",
    "        all_view_num = html_art_code.find('div', 'a10a3f92e9--container--L22PY').a.contents[0]\n",
    "        today_view_num = html_art_code.find('div', 'a10a3f92e9--container--L22PY').a.contents[8]\n",
    "    except:\n",
    "        all_view_num = ''\n",
    "        today_view_num = ''\n",
    "    if all_view_num == '':\n",
    "        try:\n",
    "            all_view_num = html_art_code.find('button', 'a10a3f92e9--button--lyQVM').contents[1]\n",
    "            today_view_num = html_art_code.find('button', 'a10a3f92e9--button--lyQVM').contents[11]\n",
    "        except:\n",
    "            view_num = ''\n",
    "    return all_view_num, today_view_num\n",
    "\n",
    "def get_art_date(browser):\n",
    "    try:\n",
    "#         elem = browser.find_element(By.XPATH, '//button[@class=\"a10a3f92e9--button--lyQVM\"]').click()\n",
    "#         time.sleep(2.5) \n",
    "        statist_code = BeautifulSoup(browser.execute_script(\"return document.documentElement.outerHTML;\"), 'html.parser')\n",
    "        date_str = statist_code.find('div', 'a10a3f92e9--information--JQbJ6').div.contents[0]\n",
    "    except:\n",
    "        date_str = ''\n",
    "    return date_str\n",
    "\n",
    "def get_price(browser):\n",
    "    price = ''\n",
    "    code = BeautifulSoup(browser.execute_script(\"return document.documentElement.outerHTML;\"), 'html.parser')\n",
    "    try:\n",
    "        s = code.find('div', 'a10a3f92e9--amount--ON6i1').span.contents[0]\n",
    "        out = \"\".join(s.split())\n",
    "        price = out[:-1]\n",
    "    except:\n",
    "        price = ''\n",
    "    \n",
    "    if price == '':\n",
    "        try:\n",
    "            s = code.find('div', 'a10a3f92e9--price--PcAEt a10a3f92e9--price--residential--Kco4D').span.span.contents[0]\n",
    "            out = \"\".join(s.split())\n",
    "            price = out[:-1]\n",
    "        except:\n",
    "            price = ''\n",
    "    return price"
   ]
  },
  {
   "cell_type": "code",
   "execution_count": 389,
   "id": "b55b42cd",
   "metadata": {},
   "outputs": [],
   "source": [
    "first_images_list = []\n",
    "art_links_list = []\n",
    "all_view_nums_list = []\n",
    "today_view_nums_list = []\n",
    "repair_types_list = []\n",
    "article_code_list = []\n",
    "date_string_list = []\n",
    "prices_list = []\n",
    "images_links_list = []\n",
    "\n",
    "first_im = open('first_images.txt','w')\n",
    "art = open('art_links.txt','w')\n",
    "all_views = open('all_view_nums.txt','w')\n",
    "today_views = open('today_view_nums.txt','w')\n",
    "rep = open('repair_types.txt','w')\n",
    "art_code = open('article_code.txt','w')\n",
    "date_strs = open('date_string.txt','w')\n",
    "prices = open('prices.txt','w')\n",
    "im_links = open('images_links.txt','w')\n",
    "\n",
    "df = pd.DataFrame()\n",
    "df[['first_image_link', 'art_link', 'all_view_num', 'today_view_num', 'repair_type', 'article_code', 'date_string', 'price', 'images_links']] = ['', '', '', '', '', '', '', '', '']\n",
    "idx = 0\n"
   ]
  },
  {
   "cell_type": "code",
   "execution_count": 400,
   "id": "97f53f9f",
   "metadata": {},
   "outputs": [
    {
     "name": "stderr",
     "output_type": "stream",
     "text": [
      "<ipython-input-400-e28928933dc4>:3: DeprecationWarning: executable_path has been deprecated, please pass in a Service object\n",
      "  browser = webdriver.Chrome('C:\\webdr\\chromedriver.exe',chrome_options=option)\n",
      "<ipython-input-400-e28928933dc4>:3: DeprecationWarning: use options instead of chrome_options\n",
      "  browser = webdriver.Chrome('C:\\webdr\\chromedriver.exe',chrome_options=option)\n"
     ]
    }
   ],
   "source": [
    "option = webdriver.ChromeOptions()\n",
    "option.add_argument(\"--disable-infobars\") \n",
    "browser = webdriver.Chrome('C:\\webdr\\chromedriver.exe',chrome_options=option)"
   ]
  },
  {
   "cell_type": "code",
   "execution_count": 401,
   "id": "f009ccbc",
   "metadata": {
    "scrolled": true
   },
   "outputs": [],
   "source": [
    "for p in range(40, 55):\n",
    "    url = f'https://www.cian.ru/cat.php?deal_type=sale&engine_version=2&object_type%5B0%5D=1&offer_type=flat&p={p}&region=1&room4=1'\n",
    "    browser.get(url)\n",
    "    soup = BeautifulSoup(browser.execute_script(\"return document.documentElement.outerHTML;\"), 'html.parser')\n",
    "    all_art = soup.find('div', '_93444fe79c--wrapper--W0WqH')\n",
    "    for article in all_art.find_all('article', '_93444fe79c--container--Povoi _93444fe79c--cont--OzgVc'):\n",
    "        first_img_link = get_first_image_link(article)\n",
    "        art_link = get_article_link(article)\n",
    "        \n",
    "        browser.get(art_link)\n",
    "        try:\n",
    "            elem = browser.find_element(By.XPATH, '//button[@class=\"a10a3f92e9--button--lyQVM\"]').click()\n",
    "        except:\n",
    "            pass\n",
    "        try:\n",
    "            elem = browser.find_element(By.XPATH, '//div[@class=\"a10a3f92e9--container--L22PY\"]').click()\n",
    "        except:\n",
    "            pass\n",
    "        time.sleep(1) \n",
    "            \n",
    "        html_art_code = BeautifulSoup(browser.execute_script(\"return document.documentElement.outerHTML;\"), 'html.parser')\n",
    "        repair_type = get_repair_type(browser)      \n",
    "        all_view_num, today_view_num = get_view_nums(html_art_code)\n",
    "        date_str = get_art_date(browser)\n",
    "        price = get_price(browser)\n",
    "        images_links = get_other_images_links(browser)\n",
    "        \n",
    "        df.loc[idx] = [first_img_link, art_link, all_view_num, today_view_num, repair_type, html_art_code, date_str, price, images_links]\n",
    "        \n",
    "        first_images_list.append(first_img_link)\n",
    "        art_links_list.append(art_link)\n",
    "        all_view_nums_list.append(all_view_num)\n",
    "        today_view_nums_list.append(today_view_num)\n",
    "        repair_types_list.append(repair_type)\n",
    "        article_code_list.append(html_art_code)\n",
    "        date_string_list.append(date_str)\n",
    "        prices_list.append(price)\n",
    "        images_links_list.append(images_links)\n",
    "        \n",
    "        first_im = open('first_images.txt','a')\n",
    "        first_im.write(first_img_link + '\\n')\n",
    "        \n",
    "        art = open('art_links.txt','a')\n",
    "        art.write(art_link + '\\n')\n",
    "        \n",
    "        all_views = open('all_view_nums.txt','a')\n",
    "        all_views.write(all_view_num + '\\n')\n",
    "        \n",
    "        today_views = open('today_view_nums.txt','a')\n",
    "        today_views.write(today_view_num + '\\n')\n",
    "        \n",
    "        rep = open('repair_types.txt','a')\n",
    "        rep.write(repair_type + '\\n')\n",
    "        \n",
    "        art_code = open('article_code.txt','a')\n",
    "        art_code.write(str(html_art_code) + '\\n\\n')\n",
    "        \n",
    "        date_strs = open('date_string.txt','a')\n",
    "        date_strs.write(date_str + '\\n')\n",
    "        \n",
    "        prices = open('prices.txt','a')\n",
    "        prices.write(price + '\\n')\n",
    "        \n",
    "        im_links = open('images_links.txt','a')\n",
    "        im_links.write(str(images_links) + '\\n')\n",
    "        \n",
    "        idx += 1\n",
    "        "
   ]
  },
  {
   "cell_type": "code",
   "execution_count": 402,
   "id": "5d246785",
   "metadata": {},
   "outputs": [
    {
     "data": {
      "text/plain": [
       "(1531, 9)"
      ]
     },
     "execution_count": 402,
     "metadata": {},
     "output_type": "execute_result"
    }
   ],
   "source": [
    "df.shape"
   ]
  },
  {
   "cell_type": "code",
   "execution_count": 403,
   "id": "7e61c7c5",
   "metadata": {},
   "outputs": [
    {
     "data": {
      "text/html": [
       "<div>\n",
       "<style scoped>\n",
       "    .dataframe tbody tr th:only-of-type {\n",
       "        vertical-align: middle;\n",
       "    }\n",
       "\n",
       "    .dataframe tbody tr th {\n",
       "        vertical-align: top;\n",
       "    }\n",
       "\n",
       "    .dataframe thead th {\n",
       "        text-align: right;\n",
       "    }\n",
       "</style>\n",
       "<table border=\"1\" class=\"dataframe\">\n",
       "  <thead>\n",
       "    <tr style=\"text-align: right;\">\n",
       "      <th></th>\n",
       "      <th>first_image_link</th>\n",
       "      <th>art_link</th>\n",
       "      <th>all_view_num</th>\n",
       "      <th>today_view_num</th>\n",
       "      <th>repair_type</th>\n",
       "      <th>article_code</th>\n",
       "      <th>date_string</th>\n",
       "      <th>price</th>\n",
       "      <th>images_links</th>\n",
       "      <th>room_num</th>\n",
       "      <th>parcing_date</th>\n",
       "    </tr>\n",
       "  </thead>\n",
       "  <tbody>\n",
       "    <tr>\n",
       "      <th>0</th>\n",
       "      <td>https://cdn-p.cian.site/images/08/350/561/kvar...</td>\n",
       "      <td>https://www.cian.ru/sale/flat/285823542/</td>\n",
       "      <td>254</td>\n",
       "      <td>57</td>\n",
       "      <td>Дизайнерский</td>\n",
       "      <td>[[[&lt;script charset=\"utf-8\" src=\"https://enterp...</td>\n",
       "      <td>255 просмотров с даты создания объявления 05.0...</td>\n",
       "      <td>79900000</td>\n",
       "      <td>[https://cdn-p.cian.site/images/08/350/561/kva...</td>\n",
       "      <td>4</td>\n",
       "      <td>20.04.2023</td>\n",
       "    </tr>\n",
       "    <tr>\n",
       "      <th>1</th>\n",
       "      <td>https://cdn-p.cian.site/images/65/228/361/1638...</td>\n",
       "      <td>https://www.cian.ru/sale/flat/285681941/</td>\n",
       "      <td>683</td>\n",
       "      <td>18</td>\n",
       "      <td>Дизайнерский</td>\n",
       "      <td>[[[&lt;script async=\"\" src=\"https://www.google-an...</td>\n",
       "      <td>684 просмотра с даты создания объявления 03.04...</td>\n",
       "      <td>140000000</td>\n",
       "      <td>[https://cdn-p.cian.site/images/65/228/361/163...</td>\n",
       "      <td>4</td>\n",
       "      <td>20.04.2023</td>\n",
       "    </tr>\n",
       "    <tr>\n",
       "      <th>2</th>\n",
       "      <td>https://cdn-p.cian.site/images/21/982/761/kvar...</td>\n",
       "      <td>https://www.cian.ru/sale/flat/285498211/</td>\n",
       "      <td>346</td>\n",
       "      <td>12</td>\n",
       "      <td>Без ремонта</td>\n",
       "      <td>[[[&lt;script charset=\"utf-8\" src=\"https://enterp...</td>\n",
       "      <td>346 просмотров с даты создания объявления 29.0...</td>\n",
       "      <td>62480000</td>\n",
       "      <td>[https://cdn-p.cian.site/images/21/982/761/kva...</td>\n",
       "      <td>4</td>\n",
       "      <td>20.04.2023</td>\n",
       "    </tr>\n",
       "    <tr>\n",
       "      <th>3</th>\n",
       "      <td>https://cdn-p.cian.site/images/13/876/341/1436...</td>\n",
       "      <td>https://www.cian.ru/sale/flat/280876452/</td>\n",
       "      <td>3 838</td>\n",
       "      <td>18</td>\n",
       "      <td>Дизайнерский</td>\n",
       "      <td>[[[&lt;script charset=\"utf-8\" src=\"https://enterp...</td>\n",
       "      <td>3838 просмотров с даты создания объявления 03....</td>\n",
       "      <td>140000000</td>\n",
       "      <td>[https://cdn-p.cian.site/images/13/876/341/143...</td>\n",
       "      <td>4</td>\n",
       "      <td>20.04.2023</td>\n",
       "    </tr>\n",
       "    <tr>\n",
       "      <th>4</th>\n",
       "      <td>https://cdn-p.cian.site/images/05/643/051/kvar...</td>\n",
       "      <td>https://www.cian.ru/sale/flat/283383666/</td>\n",
       "      <td>3 111</td>\n",
       "      <td>14</td>\n",
       "      <td>Евроремонт</td>\n",
       "      <td>[[[&lt;script async=\"\" src=\"https://www.google-an...</td>\n",
       "      <td>3112 просмотров с даты создания объявления 07....</td>\n",
       "      <td>79000000</td>\n",
       "      <td>[https://cdn-p.cian.site/images/05/643/051/kva...</td>\n",
       "      <td>4</td>\n",
       "      <td>20.04.2023</td>\n",
       "    </tr>\n",
       "    <tr>\n",
       "      <th>...</th>\n",
       "      <td>...</td>\n",
       "      <td>...</td>\n",
       "      <td>...</td>\n",
       "      <td>...</td>\n",
       "      <td>...</td>\n",
       "      <td>...</td>\n",
       "      <td>...</td>\n",
       "      <td>...</td>\n",
       "      <td>...</td>\n",
       "      <td>...</td>\n",
       "      <td>...</td>\n",
       "    </tr>\n",
       "    <tr>\n",
       "      <th>1526</th>\n",
       "      <td>https://cdn-p.cian.site/images/54/538/851/kvar...</td>\n",
       "      <td>https://www.cian.ru/sale/flat/284929839/</td>\n",
       "      <td>115</td>\n",
       "      <td>1</td>\n",
       "      <td></td>\n",
       "      <td>[[[&lt;script async=\"\" src=\"https://www.google-an...</td>\n",
       "      <td>115 просмотров с даты создания объявления 17.0...</td>\n",
       "      <td>199000000</td>\n",
       "      <td>[https://cdn-p.cian.site/images/54/538/851/kva...</td>\n",
       "      <td>4</td>\n",
       "      <td>20.04.2023</td>\n",
       "    </tr>\n",
       "    <tr>\n",
       "      <th>1527</th>\n",
       "      <td>https://cdn-p.cian.site/images/83/032/261/1622...</td>\n",
       "      <td>https://www.cian.ru/sale/flat/285029140/</td>\n",
       "      <td>106</td>\n",
       "      <td>1</td>\n",
       "      <td></td>\n",
       "      <td>[[[&lt;script charset=\"utf-8\" src=\"https://enterp...</td>\n",
       "      <td>106 просмотров с даты создания объявления 20.0...</td>\n",
       "      <td>198900000</td>\n",
       "      <td>[https://cdn-p.cian.site/images/83/032/261/162...</td>\n",
       "      <td>4</td>\n",
       "      <td>20.04.2023</td>\n",
       "    </tr>\n",
       "    <tr>\n",
       "      <th>1528</th>\n",
       "      <td>https://cdn-p.cian.site/images/75/074/751/kvar...</td>\n",
       "      <td>https://www.cian.ru/sale/flat/284791390/</td>\n",
       "      <td>221</td>\n",
       "      <td>4</td>\n",
       "      <td></td>\n",
       "      <td>[[[&lt;script async=\"\" src=\"https://www.google-an...</td>\n",
       "      <td>221 просмотр с даты создания объявления 14.03....</td>\n",
       "      <td>199999000</td>\n",
       "      <td>[]</td>\n",
       "      <td>4</td>\n",
       "      <td>20.04.2023</td>\n",
       "    </tr>\n",
       "    <tr>\n",
       "      <th>1529</th>\n",
       "      <td>https://cdn-p.cian.site/images/46/182/911/kvar...</td>\n",
       "      <td>https://www.cian.ru/sale/flat/267765316/</td>\n",
       "      <td>1 014</td>\n",
       "      <td>1</td>\n",
       "      <td></td>\n",
       "      <td>[[[&lt;script charset=\"utf-8\" src=\"https://enterp...</td>\n",
       "      <td>1014 просмотров с даты создания объявления 08....</td>\n",
       "      <td>202608000</td>\n",
       "      <td>[https://cdn-p.cian.site/images/46/182/911/kva...</td>\n",
       "      <td>4</td>\n",
       "      <td>20.04.2023</td>\n",
       "    </tr>\n",
       "    <tr>\n",
       "      <th>1530</th>\n",
       "      <td>https://cdn-p.cian.site/images/17/762/931/1392...</td>\n",
       "      <td>https://www.cian.ru/sale/flat/278927118/</td>\n",
       "      <td>301</td>\n",
       "      <td>0</td>\n",
       "      <td></td>\n",
       "      <td>[[[&lt;script async=\"\" src=\"https://www.google-an...</td>\n",
       "      <td>301 просмотр с даты создания объявления 06.10....</td>\n",
       "      <td>206995172</td>\n",
       "      <td>[https://cdn-p.cian.site/images/17/762/931/139...</td>\n",
       "      <td>4</td>\n",
       "      <td>20.04.2023</td>\n",
       "    </tr>\n",
       "  </tbody>\n",
       "</table>\n",
       "<p>1531 rows × 11 columns</p>\n",
       "</div>"
      ],
      "text/plain": [
       "                                       first_image_link  \\\n",
       "0     https://cdn-p.cian.site/images/08/350/561/kvar...   \n",
       "1     https://cdn-p.cian.site/images/65/228/361/1638...   \n",
       "2     https://cdn-p.cian.site/images/21/982/761/kvar...   \n",
       "3     https://cdn-p.cian.site/images/13/876/341/1436...   \n",
       "4     https://cdn-p.cian.site/images/05/643/051/kvar...   \n",
       "...                                                 ...   \n",
       "1526  https://cdn-p.cian.site/images/54/538/851/kvar...   \n",
       "1527  https://cdn-p.cian.site/images/83/032/261/1622...   \n",
       "1528  https://cdn-p.cian.site/images/75/074/751/kvar...   \n",
       "1529  https://cdn-p.cian.site/images/46/182/911/kvar...   \n",
       "1530  https://cdn-p.cian.site/images/17/762/931/1392...   \n",
       "\n",
       "                                      art_link all_view_num today_view_num  \\\n",
       "0     https://www.cian.ru/sale/flat/285823542/          254             57   \n",
       "1     https://www.cian.ru/sale/flat/285681941/          683             18   \n",
       "2     https://www.cian.ru/sale/flat/285498211/          346             12   \n",
       "3     https://www.cian.ru/sale/flat/280876452/        3 838             18   \n",
       "4     https://www.cian.ru/sale/flat/283383666/        3 111             14   \n",
       "...                                        ...          ...            ...   \n",
       "1526  https://www.cian.ru/sale/flat/284929839/          115              1   \n",
       "1527  https://www.cian.ru/sale/flat/285029140/          106              1   \n",
       "1528  https://www.cian.ru/sale/flat/284791390/          221              4   \n",
       "1529  https://www.cian.ru/sale/flat/267765316/        1 014              1   \n",
       "1530  https://www.cian.ru/sale/flat/278927118/          301              0   \n",
       "\n",
       "       repair_type                                       article_code  \\\n",
       "0     Дизайнерский  [[[<script charset=\"utf-8\" src=\"https://enterp...   \n",
       "1     Дизайнерский  [[[<script async=\"\" src=\"https://www.google-an...   \n",
       "2      Без ремонта  [[[<script charset=\"utf-8\" src=\"https://enterp...   \n",
       "3     Дизайнерский  [[[<script charset=\"utf-8\" src=\"https://enterp...   \n",
       "4       Евроремонт  [[[<script async=\"\" src=\"https://www.google-an...   \n",
       "...            ...                                                ...   \n",
       "1526                [[[<script async=\"\" src=\"https://www.google-an...   \n",
       "1527                [[[<script charset=\"utf-8\" src=\"https://enterp...   \n",
       "1528                [[[<script async=\"\" src=\"https://www.google-an...   \n",
       "1529                [[[<script charset=\"utf-8\" src=\"https://enterp...   \n",
       "1530                [[[<script async=\"\" src=\"https://www.google-an...   \n",
       "\n",
       "                                            date_string      price  \\\n",
       "0     255 просмотров с даты создания объявления 05.0...   79900000   \n",
       "1     684 просмотра с даты создания объявления 03.04...  140000000   \n",
       "2     346 просмотров с даты создания объявления 29.0...   62480000   \n",
       "3     3838 просмотров с даты создания объявления 03....  140000000   \n",
       "4     3112 просмотров с даты создания объявления 07....   79000000   \n",
       "...                                                 ...        ...   \n",
       "1526  115 просмотров с даты создания объявления 17.0...  199000000   \n",
       "1527  106 просмотров с даты создания объявления 20.0...  198900000   \n",
       "1528  221 просмотр с даты создания объявления 14.03....  199999000   \n",
       "1529  1014 просмотров с даты создания объявления 08....  202608000   \n",
       "1530  301 просмотр с даты создания объявления 06.10....  206995172   \n",
       "\n",
       "                                           images_links  room_num parcing_date  \n",
       "0     [https://cdn-p.cian.site/images/08/350/561/kva...         4   20.04.2023  \n",
       "1     [https://cdn-p.cian.site/images/65/228/361/163...         4   20.04.2023  \n",
       "2     [https://cdn-p.cian.site/images/21/982/761/kva...         4   20.04.2023  \n",
       "3     [https://cdn-p.cian.site/images/13/876/341/143...         4   20.04.2023  \n",
       "4     [https://cdn-p.cian.site/images/05/643/051/kva...         4   20.04.2023  \n",
       "...                                                 ...       ...          ...  \n",
       "1526  [https://cdn-p.cian.site/images/54/538/851/kva...         4   20.04.2023  \n",
       "1527  [https://cdn-p.cian.site/images/83/032/261/162...         4   20.04.2023  \n",
       "1528                                                 []         4   20.04.2023  \n",
       "1529  [https://cdn-p.cian.site/images/46/182/911/kva...         4   20.04.2023  \n",
       "1530  [https://cdn-p.cian.site/images/17/762/931/139...         4   20.04.2023  \n",
       "\n",
       "[1531 rows x 11 columns]"
      ]
     },
     "execution_count": 403,
     "metadata": {},
     "output_type": "execute_result"
    }
   ],
   "source": [
    "df['room_num'] = 4\n",
    "df['parcing_date'] = '20.04.2023'\n",
    "df"
   ]
  },
  {
   "cell_type": "code",
   "execution_count": 421,
   "id": "2b05bbf4",
   "metadata": {},
   "outputs": [],
   "source": [
    "df.to_csv('4-room-Moscow-data.csv')"
   ]
  },
  {
   "cell_type": "code",
   "execution_count": 419,
   "id": "871d223c",
   "metadata": {},
   "outputs": [],
   "source": [
    "df = df.drop(df[df['date_string'] == ''].index)"
   ]
  },
  {
   "cell_type": "code",
   "execution_count": 424,
   "id": "54fb965f",
   "metadata": {},
   "outputs": [
    {
     "data": {
      "text/plain": [
       "(0, 11)"
      ]
     },
     "execution_count": 424,
     "metadata": {},
     "output_type": "execute_result"
    }
   ],
   "source": [
    "df[df['repair_type'] == ''].shape"
   ]
  },
  {
   "cell_type": "code",
   "execution_count": 224,
   "id": "138534c2",
   "metadata": {},
   "outputs": [],
   "source": [
    "# option = webdriver.ChromeOptions()\n",
    "# option.add_argument(\"--disable-infobars\") \n",
    "# repair = 1\n",
    "# browser = webdriver.Chrome('C:\\webdr\\chromedriver.exe')\n",
    "# art_link0 = 'https://www.cian.ru/sale/flat/281094799/'\n",
    "# art_link1 = 'https://www.cian.ru/sale/flat/285680783/'\n",
    "# art_link2 = 'https://www.cian.ru/sale/flat/272930335/'\n",
    "# art_link3 = 'https://www.cian.ru/sale/flat/265942567/'\n",
    "# browser.get(art_link3)"
   ]
  },
  {
   "cell_type": "code",
   "execution_count": 225,
   "id": "1c9f1bef",
   "metadata": {},
   "outputs": [],
   "source": [
    "# elem = browser.find_element(By.XPATH, '//div[@class=\"a10a3f92e9--container--L22PY\"]').click()\n",
    "# time.sleep(2.5) \n",
    "# statist_code = BeautifulSoup(browser.execute_script(\"return document.documentElement.outerHTML;\"), 'html.parser')\n",
    "# imag_html = statist_code.find('div', 'a10a3f92e9--thumbs-wrapper--pxYPN')\n",
    "# images_list = []\n",
    "# for li in imag_html.find_all('li'):\n",
    "#     images_list += [li.a.img['src']]\n",
    "# images_list[:-1]"
   ]
  },
  {
   "cell_type": "code",
   "execution_count": 108,
   "id": "8fb99d6d",
   "metadata": {},
   "outputs": [],
   "source": [
    "statist_code = BeautifulSoup(browser.execute_script(\"return document.documentElement.outerHTML;\"), 'html.parser')"
   ]
  },
  {
   "cell_type": "code",
   "execution_count": 385,
   "id": "847bb6bf",
   "metadata": {},
   "outputs": [],
   "source": [
    "df = df.drop(indxs)"
   ]
  },
  {
   "cell_type": "code",
   "execution_count": 326,
   "id": "a88f4eea",
   "metadata": {},
   "outputs": [
    {
     "data": {
      "text/html": [
       "<div>\n",
       "<style scoped>\n",
       "    .dataframe tbody tr th:only-of-type {\n",
       "        vertical-align: middle;\n",
       "    }\n",
       "\n",
       "    .dataframe tbody tr th {\n",
       "        vertical-align: top;\n",
       "    }\n",
       "\n",
       "    .dataframe thead th {\n",
       "        text-align: right;\n",
       "    }\n",
       "</style>\n",
       "<table border=\"1\" class=\"dataframe\">\n",
       "  <thead>\n",
       "    <tr style=\"text-align: right;\">\n",
       "      <th></th>\n",
       "      <th>first_image_link</th>\n",
       "      <th>art_link</th>\n",
       "      <th>all_view_num</th>\n",
       "      <th>today_view_num</th>\n",
       "      <th>repair_type</th>\n",
       "      <th>article_code</th>\n",
       "      <th>date_string</th>\n",
       "      <th>price</th>\n",
       "      <th>images_links</th>\n",
       "      <th>room_num</th>\n",
       "      <th>parcing_date</th>\n",
       "    </tr>\n",
       "  </thead>\n",
       "  <tbody>\n",
       "  </tbody>\n",
       "</table>\n",
       "</div>"
      ],
      "text/plain": [
       "Empty DataFrame\n",
       "Columns: [first_image_link, art_link, all_view_num, today_view_num, repair_type, article_code, date_string, price, images_links, room_num, parcing_date]\n",
       "Index: []"
      ]
     },
     "execution_count": 326,
     "metadata": {},
     "output_type": "execute_result"
    }
   ],
   "source": [
    "df_tmp[df_tmp['repair_type'] == '']"
   ]
  },
  {
   "cell_type": "code",
   "execution_count": 75,
   "id": "3bfeafca",
   "metadata": {},
   "outputs": [
    {
     "name": "stdout",
     "output_type": "stream",
     "text": [
      "342\n",
      "809\n"
     ]
    }
   ],
   "source": [
    "for i in range(len(df_new['Num_views'])):\n",
    "    if df_new['Num_views'][i] == '':\n",
    "        soup = BeautifulSoup(df_new['Article_code'][i])\n",
    "        try:\n",
    "            df_new['Num_views'].loc[i] = soup.find('div', 'a10a3f92e9--container--L22PY').a.contents[0]\n",
    "        except:\n",
    "            print(i)"
   ]
  },
  {
   "cell_type": "code",
   "execution_count": 416,
   "id": "af8e5728",
   "metadata": {},
   "outputs": [],
   "source": [
    "df_new = df.copy()"
   ]
  },
  {
   "cell_type": "code",
   "execution_count": 383,
   "id": "34949423",
   "metadata": {},
   "outputs": [],
   "source": [
    "indxs = df[df['repair_type'] == ''].index"
   ]
  },
  {
   "cell_type": "code",
   "execution_count": 414,
   "id": "9e2b6e3b",
   "metadata": {},
   "outputs": [],
   "source": [
    "df_new = df_new.drop(df_new[df_new['repair_type'] == ''].index)"
   ]
  },
  {
   "cell_type": "code",
   "execution_count": 415,
   "id": "3c08bef7",
   "metadata": {},
   "outputs": [
    {
     "data": {
      "text/html": [
       "<div>\n",
       "<style scoped>\n",
       "    .dataframe tbody tr th:only-of-type {\n",
       "        vertical-align: middle;\n",
       "    }\n",
       "\n",
       "    .dataframe tbody tr th {\n",
       "        vertical-align: top;\n",
       "    }\n",
       "\n",
       "    .dataframe thead th {\n",
       "        text-align: right;\n",
       "    }\n",
       "</style>\n",
       "<table border=\"1\" class=\"dataframe\">\n",
       "  <thead>\n",
       "    <tr style=\"text-align: right;\">\n",
       "      <th></th>\n",
       "      <th>first_image_link</th>\n",
       "      <th>art_link</th>\n",
       "      <th>all_view_num</th>\n",
       "      <th>today_view_num</th>\n",
       "      <th>repair_type</th>\n",
       "      <th>article_code</th>\n",
       "      <th>date_string</th>\n",
       "      <th>price</th>\n",
       "      <th>images_links</th>\n",
       "      <th>room_num</th>\n",
       "      <th>parcing_date</th>\n",
       "    </tr>\n",
       "  </thead>\n",
       "  <tbody>\n",
       "  </tbody>\n",
       "</table>\n",
       "</div>"
      ],
      "text/plain": [
       "Empty DataFrame\n",
       "Columns: [first_image_link, art_link, all_view_num, today_view_num, repair_type, article_code, date_string, price, images_links, room_num, parcing_date]\n",
       "Index: []"
      ]
     },
     "execution_count": 415,
     "metadata": {},
     "output_type": "execute_result"
    }
   ],
   "source": [
    "df_new[df_new['repair_type'] == '']"
   ]
  },
  {
   "cell_type": "code",
   "execution_count": 408,
   "id": "0419c3b3",
   "metadata": {
    "collapsed": true
   },
   "outputs": [
    {
     "name": "stdout",
     "output_type": "stream",
     "text": [
      "86\n",
      "89\n",
      "141\n",
      "155\n"
     ]
    },
    {
     "name": "stderr",
     "output_type": "stream",
     "text": [
      "/Users/anna/opt/anaconda3/lib/python3.8/site-packages/pandas/core/indexing.py:1637: SettingWithCopyWarning: \n",
      "A value is trying to be set on a copy of a slice from a DataFrame\n",
      "\n",
      "See the caveats in the documentation: https://pandas.pydata.org/pandas-docs/stable/user_guide/indexing.html#returning-a-view-versus-a-copy\n",
      "  self._setitem_single_block(indexer, value, name)\n"
     ]
    },
    {
     "name": "stdout",
     "output_type": "stream",
     "text": [
      "182\n",
      "242\n",
      "260\n",
      "269\n",
      "311\n",
      "335\n",
      "402\n",
      "479\n",
      "480\n",
      "489\n",
      "557\n",
      "655\n",
      "668\n",
      "704\n",
      "758\n",
      "779\n",
      "813\n",
      "826\n",
      "852\n",
      "876\n",
      "882\n",
      "904\n",
      "926\n",
      "943\n",
      "998\n",
      "1034\n",
      "1060\n",
      "1166\n",
      "1168\n",
      "1204\n",
      "1212\n",
      "1217\n",
      "1221\n",
      "1222\n",
      "1223\n",
      "1237\n",
      "1249\n",
      "1253\n",
      "1256\n",
      "1261\n",
      "1276\n",
      "1308\n",
      "1326\n",
      "1333\n",
      "1334\n",
      "1369\n",
      "1370\n",
      "1382\n",
      "1383\n",
      "1408\n",
      "1409\n",
      "1443\n",
      "1465\n",
      "1474\n",
      "1477\n",
      "1478\n",
      "1485\n",
      "1494\n",
      "1504\n",
      "1518\n",
      "1522\n"
     ]
    }
   ],
   "source": [
    "# soup.find_all('li', 'a10a3f92e9--item--d9uzC')[2].find('span', 'a10a3f92e9--value--Y34zN').contents\n",
    "for i in range(len(df_new['all_view_num'])):\n",
    "    if df_new['repair_type'].iloc[i] == '':\n",
    "        soup = df_new['article_code'].iloc[i]\n",
    "        j = 1\n",
    "        try:\n",
    "            while j < 100:\n",
    "                name = soup.find_all('li', 'a10a3f92e9--item--d9uzC')[j].find('span', 'a10a3f92e9--value--Y34zN').contents[0]\n",
    "                if name == 'Дизайнерский' or name == 'Без ремонта' or name == 'Косметический' or name =='Евроремонт':\n",
    "                    df_new['repair_type'].iloc[i] = name\n",
    "                    break\n",
    "                j += 1\n",
    "        except:\n",
    "            print(i)\n",
    "#         try:\n",
    "#             df_new['Num_views'].loc[i] = soup.find('div', 'a10a3f92e9--container--L22PY').a.contents[0]\n",
    "#         except:\n",
    "#             print(i)\n"
   ]
  },
  {
   "cell_type": "code",
   "execution_count": 2,
   "id": "9e2bb409",
   "metadata": {},
   "outputs": [],
   "source": [
    "import pandas as pd\n",
    "import numpy as np\n",
    "import matplotlib.pyplot as plt\n",
    "import requests\n",
    "import torchvision\n",
    "import torch\n",
    "import torch.nn as nn"
   ]
  },
  {
   "cell_type": "code",
   "execution_count": 426,
   "id": "2eb961d8",
   "metadata": {},
   "outputs": [],
   "source": [
    "room1_Moscow = pd.read_csv('1-room-Moscow-data.csv')\n",
    "room2_Moscow = pd.read_csv('2-room-Moscow-data.csv')\n",
    "room3_Moscow = pd.read_csv('3-room-Moscow-data.csv')\n",
    "room4_Moscow = pd.read_csv('4-room-Moscow-data.csv')"
   ]
  },
  {
   "cell_type": "code",
   "execution_count": 428,
   "id": "6c7fae11",
   "metadata": {},
   "outputs": [],
   "source": [
    "room1_Moscow = room1_Moscow.drop(columns=['Unnamed: 0'])"
   ]
  },
  {
   "cell_type": "code",
   "execution_count": 429,
   "id": "c867efca",
   "metadata": {},
   "outputs": [],
   "source": [
    "room2_Moscow = room2_Moscow.drop(columns=['Unnamed: 0'])\n",
    "room3_Moscow = room3_Moscow.drop(columns=['Unnamed: 0'])\n",
    "room4_Moscow = room4_Moscow.drop(columns=['Unnamed: 0'])"
   ]
  },
  {
   "cell_type": "code",
   "execution_count": 430,
   "id": "846586b0",
   "metadata": {},
   "outputs": [],
   "source": [
    "frames = [room1_Moscow, room2_Moscow, room3_Moscow, room4_Moscow]\n",
    "Moscow_aparts = pd.concat(frames)"
   ]
  },
  {
   "cell_type": "code",
   "execution_count": 435,
   "id": "819733ad",
   "metadata": {},
   "outputs": [],
   "source": [
    "Moscow_aparts = Moscow_aparts.reset_index().drop(columns=['index'])"
   ]
  },
  {
   "cell_type": "code",
   "execution_count": 440,
   "id": "1e5c528a",
   "metadata": {},
   "outputs": [
    {
     "data": {
      "text/html": [
       "<div>\n",
       "<style scoped>\n",
       "    .dataframe tbody tr th:only-of-type {\n",
       "        vertical-align: middle;\n",
       "    }\n",
       "\n",
       "    .dataframe tbody tr th {\n",
       "        vertical-align: top;\n",
       "    }\n",
       "\n",
       "    .dataframe thead th {\n",
       "        text-align: right;\n",
       "    }\n",
       "</style>\n",
       "<table border=\"1\" class=\"dataframe\">\n",
       "  <thead>\n",
       "    <tr style=\"text-align: right;\">\n",
       "      <th></th>\n",
       "      <th>first_image_link</th>\n",
       "      <th>art_link</th>\n",
       "      <th>all_view_num</th>\n",
       "      <th>today_view_num</th>\n",
       "      <th>repair_type</th>\n",
       "      <th>article_code</th>\n",
       "      <th>date_string</th>\n",
       "      <th>price</th>\n",
       "      <th>images_links</th>\n",
       "      <th>room_num</th>\n",
       "      <th>parcing_date</th>\n",
       "      <th>region</th>\n",
       "    </tr>\n",
       "  </thead>\n",
       "  <tbody>\n",
       "    <tr>\n",
       "      <th>4349</th>\n",
       "      <td>https://cdn-p.cian.site/images/73/426/521/kvar...</td>\n",
       "      <td>https://www.cian.ru/sale/flat/271164190/</td>\n",
       "      <td>1 431</td>\n",
       "      <td>1</td>\n",
       "      <td>Дизайнерский</td>\n",
       "      <td>&lt;html class=\"DOCUMENT_SCROLL_DISABLE\" lang=\"ru...</td>\n",
       "      <td>1431 просмотр с даты создания объявления 14.03...</td>\n",
       "      <td>85000000</td>\n",
       "      <td>['https://cdn-p.cian.site/images/73/426/521/kv...</td>\n",
       "      <td>3</td>\n",
       "      <td>20.04.2023</td>\n",
       "      <td>1</td>\n",
       "    </tr>\n",
       "    <tr>\n",
       "      <th>3417</th>\n",
       "      <td>https://cdn-p.cian.site/images/78/671/861/1681...</td>\n",
       "      <td>https://www.cian.ru/sale/flat/286425817/</td>\n",
       "      <td>16</td>\n",
       "      <td>16</td>\n",
       "      <td>Дизайнерский</td>\n",
       "      <td>&lt;html class=\"DOCUMENT_SCROLL_DISABLE\" lang=\"ru...</td>\n",
       "      <td>16 просмотров с даты создания объявления 19.04...</td>\n",
       "      <td>48000000</td>\n",
       "      <td>['https://cdn-p.cian.site/images/78/671/861/16...</td>\n",
       "      <td>3</td>\n",
       "      <td>20.04.2023</td>\n",
       "      <td>1</td>\n",
       "    </tr>\n",
       "    <tr>\n",
       "      <th>1907</th>\n",
       "      <td>https://cdn-p.cian.site/images/85/463/251/kvar...</td>\n",
       "      <td>https://www.cian.ru/sale/flat/283970175/</td>\n",
       "      <td>3 082</td>\n",
       "      <td>52</td>\n",
       "      <td>Дизайнерский</td>\n",
       "      <td>&lt;html class=\"DOCUMENT_SCROLL_DISABLE\" lang=\"ru...</td>\n",
       "      <td>3082 просмотра с даты создания объявления 20.0...</td>\n",
       "      <td>25800000</td>\n",
       "      <td>['https://cdn-p.cian.site/images/85/463/251/kv...</td>\n",
       "      <td>2</td>\n",
       "      <td>20.04.2023</td>\n",
       "      <td>1</td>\n",
       "    </tr>\n",
       "  </tbody>\n",
       "</table>\n",
       "</div>"
      ],
      "text/plain": [
       "                                       first_image_link  \\\n",
       "4349  https://cdn-p.cian.site/images/73/426/521/kvar...   \n",
       "3417  https://cdn-p.cian.site/images/78/671/861/1681...   \n",
       "1907  https://cdn-p.cian.site/images/85/463/251/kvar...   \n",
       "\n",
       "                                      art_link all_view_num  today_view_num  \\\n",
       "4349  https://www.cian.ru/sale/flat/271164190/        1 431               1   \n",
       "3417  https://www.cian.ru/sale/flat/286425817/           16              16   \n",
       "1907  https://www.cian.ru/sale/flat/283970175/        3 082              52   \n",
       "\n",
       "       repair_type                                       article_code  \\\n",
       "4349  Дизайнерский  <html class=\"DOCUMENT_SCROLL_DISABLE\" lang=\"ru...   \n",
       "3417  Дизайнерский  <html class=\"DOCUMENT_SCROLL_DISABLE\" lang=\"ru...   \n",
       "1907  Дизайнерский  <html class=\"DOCUMENT_SCROLL_DISABLE\" lang=\"ru...   \n",
       "\n",
       "                                            date_string     price  \\\n",
       "4349  1431 просмотр с даты создания объявления 14.03...  85000000   \n",
       "3417  16 просмотров с даты создания объявления 19.04...  48000000   \n",
       "1907  3082 просмотра с даты создания объявления 20.0...  25800000   \n",
       "\n",
       "                                           images_links  room_num  \\\n",
       "4349  ['https://cdn-p.cian.site/images/73/426/521/kv...         3   \n",
       "3417  ['https://cdn-p.cian.site/images/78/671/861/16...         3   \n",
       "1907  ['https://cdn-p.cian.site/images/85/463/251/kv...         2   \n",
       "\n",
       "     parcing_date  region  \n",
       "4349   20.04.2023       1  \n",
       "3417   20.04.2023       1  \n",
       "1907   20.04.2023       1  "
      ]
     },
     "execution_count": 440,
     "metadata": {},
     "output_type": "execute_result"
    }
   ],
   "source": [
    "Moscow_aparts['region'] = 1\n",
    "Moscow_aparts.sample(3)"
   ]
  },
  {
   "cell_type": "code",
   "execution_count": 441,
   "id": "069e45cb",
   "metadata": {},
   "outputs": [],
   "source": [
    "Moscow_aparts.to_csv('all-Moscow-data.csv')"
   ]
  },
  {
   "cell_type": "code",
   "execution_count": 454,
   "id": "dee34e36",
   "metadata": {},
   "outputs": [
    {
     "data": {
      "text/plain": [
       "(5814, 12)"
      ]
     },
     "execution_count": 454,
     "metadata": {},
     "output_type": "execute_result"
    }
   ],
   "source": [
    "Moscow_aparts.shape"
   ]
  },
  {
   "cell_type": "code",
   "execution_count": 442,
   "id": "142cb968",
   "metadata": {},
   "outputs": [
    {
     "data": {
      "text/html": [
       "<div>\n",
       "<style scoped>\n",
       "    .dataframe tbody tr th:only-of-type {\n",
       "        vertical-align: middle;\n",
       "    }\n",
       "\n",
       "    .dataframe tbody tr th {\n",
       "        vertical-align: top;\n",
       "    }\n",
       "\n",
       "    .dataframe thead th {\n",
       "        text-align: right;\n",
       "    }\n",
       "</style>\n",
       "<table border=\"1\" class=\"dataframe\">\n",
       "  <thead>\n",
       "    <tr style=\"text-align: right;\">\n",
       "      <th></th>\n",
       "      <th>first_image_link</th>\n",
       "      <th>art_link</th>\n",
       "      <th>all_view_num</th>\n",
       "      <th>today_view_num</th>\n",
       "      <th>article_code</th>\n",
       "      <th>date_string</th>\n",
       "      <th>price</th>\n",
       "      <th>images_links</th>\n",
       "      <th>room_num</th>\n",
       "      <th>parcing_date</th>\n",
       "      <th>region</th>\n",
       "    </tr>\n",
       "    <tr>\n",
       "      <th>repair_type</th>\n",
       "      <th></th>\n",
       "      <th></th>\n",
       "      <th></th>\n",
       "      <th></th>\n",
       "      <th></th>\n",
       "      <th></th>\n",
       "      <th></th>\n",
       "      <th></th>\n",
       "      <th></th>\n",
       "      <th></th>\n",
       "      <th></th>\n",
       "    </tr>\n",
       "  </thead>\n",
       "  <tbody>\n",
       "    <tr>\n",
       "      <th>Без ремонта</th>\n",
       "      <td>1536</td>\n",
       "      <td>1537</td>\n",
       "      <td>1537</td>\n",
       "      <td>1537</td>\n",
       "      <td>1537</td>\n",
       "      <td>1537</td>\n",
       "      <td>1537</td>\n",
       "      <td>1537</td>\n",
       "      <td>1537</td>\n",
       "      <td>1537</td>\n",
       "      <td>1537</td>\n",
       "    </tr>\n",
       "    <tr>\n",
       "      <th>Дизайнерский</th>\n",
       "      <td>1984</td>\n",
       "      <td>1986</td>\n",
       "      <td>1986</td>\n",
       "      <td>1986</td>\n",
       "      <td>1986</td>\n",
       "      <td>1986</td>\n",
       "      <td>1986</td>\n",
       "      <td>1986</td>\n",
       "      <td>1986</td>\n",
       "      <td>1986</td>\n",
       "      <td>1986</td>\n",
       "    </tr>\n",
       "    <tr>\n",
       "      <th>Евроремонт</th>\n",
       "      <td>1131</td>\n",
       "      <td>1131</td>\n",
       "      <td>1131</td>\n",
       "      <td>1131</td>\n",
       "      <td>1131</td>\n",
       "      <td>1131</td>\n",
       "      <td>1131</td>\n",
       "      <td>1131</td>\n",
       "      <td>1131</td>\n",
       "      <td>1131</td>\n",
       "      <td>1131</td>\n",
       "    </tr>\n",
       "    <tr>\n",
       "      <th>Косметический</th>\n",
       "      <td>1160</td>\n",
       "      <td>1160</td>\n",
       "      <td>1160</td>\n",
       "      <td>1160</td>\n",
       "      <td>1160</td>\n",
       "      <td>1160</td>\n",
       "      <td>1160</td>\n",
       "      <td>1160</td>\n",
       "      <td>1160</td>\n",
       "      <td>1160</td>\n",
       "      <td>1160</td>\n",
       "    </tr>\n",
       "  </tbody>\n",
       "</table>\n",
       "</div>"
      ],
      "text/plain": [
       "               first_image_link  art_link  all_view_num  today_view_num  \\\n",
       "repair_type                                                               \n",
       "Без ремонта                1536      1537          1537            1537   \n",
       "Дизайнерский               1984      1986          1986            1986   \n",
       "Евроремонт                 1131      1131          1131            1131   \n",
       "Косметический              1160      1160          1160            1160   \n",
       "\n",
       "               article_code  date_string  price  images_links  room_num  \\\n",
       "repair_type                                                               \n",
       "Без ремонта            1537         1537   1537          1537      1537   \n",
       "Дизайнерский           1986         1986   1986          1986      1986   \n",
       "Евроремонт             1131         1131   1131          1131      1131   \n",
       "Косметический          1160         1160   1160          1160      1160   \n",
       "\n",
       "               parcing_date  region  \n",
       "repair_type                          \n",
       "Без ремонта            1537    1537  \n",
       "Дизайнерский           1986    1986  \n",
       "Евроремонт             1131    1131  \n",
       "Косметический          1160    1160  "
      ]
     },
     "execution_count": 442,
     "metadata": {},
     "output_type": "execute_result"
    }
   ],
   "source": [
    "Moscow_aparts.groupby(by=[\"repair_type\"]).count()"
   ]
  },
  {
   "cell_type": "code",
   "execution_count": 443,
   "id": "8444738b",
   "metadata": {},
   "outputs": [],
   "source": [
    "df_new = Moscow_aparts.copy()"
   ]
  },
  {
   "cell_type": "code",
   "execution_count": 445,
   "id": "d3acfb08",
   "metadata": {},
   "outputs": [
    {
     "data": {
      "text/html": [
       "<div>\n",
       "<style scoped>\n",
       "    .dataframe tbody tr th:only-of-type {\n",
       "        vertical-align: middle;\n",
       "    }\n",
       "\n",
       "    .dataframe tbody tr th {\n",
       "        vertical-align: top;\n",
       "    }\n",
       "\n",
       "    .dataframe thead th {\n",
       "        text-align: right;\n",
       "    }\n",
       "</style>\n",
       "<table border=\"1\" class=\"dataframe\">\n",
       "  <thead>\n",
       "    <tr style=\"text-align: right;\">\n",
       "      <th></th>\n",
       "      <th>first_image_link</th>\n",
       "      <th>art_link</th>\n",
       "      <th>all_view_num</th>\n",
       "      <th>today_view_num</th>\n",
       "      <th>repair_type</th>\n",
       "      <th>article_code</th>\n",
       "      <th>date_string</th>\n",
       "      <th>price</th>\n",
       "      <th>images_links</th>\n",
       "      <th>room_num</th>\n",
       "      <th>parcing_date</th>\n",
       "      <th>region</th>\n",
       "      <th>im_dir</th>\n",
       "      <th>Repair_types_id</th>\n",
       "    </tr>\n",
       "  </thead>\n",
       "  <tbody>\n",
       "    <tr>\n",
       "      <th>1663</th>\n",
       "      <td>https://cdn-p.cian.site/images/80/028/461/1648...</td>\n",
       "      <td>https://www.cian.ru/sale/flat/285835697/</td>\n",
       "      <td>659</td>\n",
       "      <td>32</td>\n",
       "      <td>Дизайнерский</td>\n",
       "      <td>&lt;html class=\"DOCUMENT_SCROLL_DISABLE\" lang=\"ru...</td>\n",
       "      <td>659 просмотров с даты создания объявления 06.0...</td>\n",
       "      <td>29000000</td>\n",
       "      <td>['https://cdn-p.cian.site/images/80/028/461/16...</td>\n",
       "      <td>2</td>\n",
       "      <td>20.04.2023</td>\n",
       "      <td>1</td>\n",
       "      <td></td>\n",
       "      <td>1.0</td>\n",
       "    </tr>\n",
       "    <tr>\n",
       "      <th>5793</th>\n",
       "      <td>https://cdn-p.cian.site/images/31/569/041/kvar...</td>\n",
       "      <td>https://www.cian.ru/sale/flat/279717232/</td>\n",
       "      <td>368</td>\n",
       "      <td>4</td>\n",
       "      <td>Без ремонта</td>\n",
       "      <td>&lt;html class=\"DOCUMENT_SCROLL_DISABLE\" lang=\"ru...</td>\n",
       "      <td>368 просмотров с даты создания объявления 03.1...</td>\n",
       "      <td>164900000</td>\n",
       "      <td>['https://cdn-p.cian.site/images/31/569/041/kv...</td>\n",
       "      <td>4</td>\n",
       "      <td>20.04.2023</td>\n",
       "      <td>1</td>\n",
       "      <td></td>\n",
       "      <td>0.0</td>\n",
       "    </tr>\n",
       "    <tr>\n",
       "      <th>5777</th>\n",
       "      <td>https://cdn-p.cian.site/images/34/056/461/1646...</td>\n",
       "      <td>https://www.cian.ru/sale/flat/285801034/</td>\n",
       "      <td>75</td>\n",
       "      <td>2</td>\n",
       "      <td>Без ремонта</td>\n",
       "      <td>&lt;html class=\"DOCUMENT_SCROLL_DISABLE\" lang=\"ru...</td>\n",
       "      <td>75 просмотров с даты создания объявления 05.04...</td>\n",
       "      <td>140000000</td>\n",
       "      <td>['https://cdn-p.cian.site/images/34/056/461/16...</td>\n",
       "      <td>4</td>\n",
       "      <td>20.04.2023</td>\n",
       "      <td>1</td>\n",
       "      <td></td>\n",
       "      <td>0.0</td>\n",
       "    </tr>\n",
       "  </tbody>\n",
       "</table>\n",
       "</div>"
      ],
      "text/plain": [
       "                                       first_image_link  \\\n",
       "1663  https://cdn-p.cian.site/images/80/028/461/1648...   \n",
       "5793  https://cdn-p.cian.site/images/31/569/041/kvar...   \n",
       "5777  https://cdn-p.cian.site/images/34/056/461/1646...   \n",
       "\n",
       "                                      art_link all_view_num  today_view_num  \\\n",
       "1663  https://www.cian.ru/sale/flat/285835697/          659              32   \n",
       "5793  https://www.cian.ru/sale/flat/279717232/          368               4   \n",
       "5777  https://www.cian.ru/sale/flat/285801034/           75               2   \n",
       "\n",
       "       repair_type                                       article_code  \\\n",
       "1663  Дизайнерский  <html class=\"DOCUMENT_SCROLL_DISABLE\" lang=\"ru...   \n",
       "5793   Без ремонта  <html class=\"DOCUMENT_SCROLL_DISABLE\" lang=\"ru...   \n",
       "5777   Без ремонта  <html class=\"DOCUMENT_SCROLL_DISABLE\" lang=\"ru...   \n",
       "\n",
       "                                            date_string      price  \\\n",
       "1663  659 просмотров с даты создания объявления 06.0...   29000000   \n",
       "5793  368 просмотров с даты создания объявления 03.1...  164900000   \n",
       "5777  75 просмотров с даты создания объявления 05.04...  140000000   \n",
       "\n",
       "                                           images_links  room_num  \\\n",
       "1663  ['https://cdn-p.cian.site/images/80/028/461/16...         2   \n",
       "5793  ['https://cdn-p.cian.site/images/31/569/041/kv...         4   \n",
       "5777  ['https://cdn-p.cian.site/images/34/056/461/16...         4   \n",
       "\n",
       "     parcing_date  region im_dir  Repair_types_id  \n",
       "1663   20.04.2023       1                     1.0  \n",
       "5793   20.04.2023       1                     0.0  \n",
       "5777   20.04.2023       1                     0.0  "
      ]
     },
     "execution_count": 445,
     "metadata": {},
     "output_type": "execute_result"
    }
   ],
   "source": [
    "df_new['im_dir'] = ''\n",
    "df_new.loc[df_new['repair_type'] == 'Без ремонта', 'Repair_types_id'] = 0\n",
    "df_new.loc[df_new['repair_type'] == 'Дизайнерский', 'Repair_types_id'] = 1\n",
    "df_new.loc[df_new['repair_type'] == 'Евроремонт', 'Repair_types_id'] = 2\n",
    "df_new.loc[df_new['repair_type'] == 'Косметический', 'Repair_types_id'] = 3\n",
    "df_new.sample(3)"
   ]
  },
  {
   "cell_type": "code",
   "execution_count": 449,
   "id": "6e2d2a5f",
   "metadata": {},
   "outputs": [],
   "source": [
    "df_new = df_new.fillna('')"
   ]
  },
  {
   "cell_type": "code",
   "execution_count": 451,
   "id": "e9d59193",
   "metadata": {},
   "outputs": [],
   "source": [
    "df_new = df_new.drop(df_new[df_new['first_image_link'] == ''].index).reset_index().drop(columns=['index'])"
   ]
  },
  {
   "cell_type": "code",
   "execution_count": 452,
   "id": "3e4f14c2",
   "metadata": {},
   "outputs": [
    {
     "data": {
      "text/plain": [
       "(5811, 14)"
      ]
     },
     "execution_count": 452,
     "metadata": {},
     "output_type": "execute_result"
    }
   ],
   "source": [
    "df_new.shape"
   ]
  },
  {
   "cell_type": "code",
   "execution_count": 456,
   "id": "46e3588b",
   "metadata": {},
   "outputs": [
    {
     "name": "stderr",
     "output_type": "stream",
     "text": [
      "<ipython-input-456-0542456f8bf9>:6: SettingWithCopyWarning: \n",
      "A value is trying to be set on a copy of a slice from a DataFrame\n",
      "\n",
      "See the caveats in the documentation: https://pandas.pydata.org/pandas-docs/stable/user_guide/indexing.html#returning-a-view-versus-a-copy\n",
      "  df_new['im_dir'][i] = im_name\n"
     ]
    }
   ],
   "source": [
    "# Сохраним все изображения в директорию ./im_data\n",
    "for i in range(len(df_new['first_image_link'])):\n",
    "    image_url = df_new['first_image_link'][i]\n",
    "    img_data = requests.get(image_url).content\n",
    "    im_name = 'first_images/moscow_image_' + str(i).zfill(7) + '.jpg'\n",
    "    df_new['im_dir'][i] = im_name\n",
    "    with open(im_name, 'wb') as file:\n",
    "        file.write(img_data)"
   ]
  },
  {
   "cell_type": "markdown",
   "id": "af274d21",
   "metadata": {},
   "source": [
    "# Preparing dataset"
   ]
  },
  {
   "cell_type": "code",
   "execution_count": 4,
   "id": "aee5b4dd",
   "metadata": {},
   "outputs": [],
   "source": [
    "# df_new.to_csv('all-Moscow-data.csv')"
   ]
  },
  {
   "cell_type": "code",
   "execution_count": 3,
   "id": "987b6186",
   "metadata": {},
   "outputs": [],
   "source": [
    "df_new = pd.read_csv('all-Moscow-data.csv')"
   ]
  },
  {
   "cell_type": "code",
   "execution_count": 4,
   "id": "d01af9d4",
   "metadata": {},
   "outputs": [],
   "source": [
    "df_new = df_new.drop(columns=['Unnamed: 0'])"
   ]
  },
  {
   "cell_type": "code",
   "execution_count": 5,
   "id": "eedd3846",
   "metadata": {},
   "outputs": [
    {
     "data": {
      "text/plain": [
       "(5793, 17)"
      ]
     },
     "execution_count": 5,
     "metadata": {},
     "output_type": "execute_result"
    }
   ],
   "source": [
    "df_new.shape"
   ]
  },
  {
   "cell_type": "code",
   "execution_count": 36,
   "id": "ba737743",
   "metadata": {},
   "outputs": [
    {
     "name": "stderr",
     "output_type": "stream",
     "text": [
      "<ipython-input-36-f8717cc4356b>:3: SettingWithCopyWarning: \n",
      "A value is trying to be set on a copy of a slice from a DataFrame\n",
      "\n",
      "See the caveats in the documentation: https://pandas.pydata.org/pandas-docs/stable/user_guide/indexing.html#returning-a-view-versus-a-copy\n",
      "  df_new['creature_date'][i] = df_new['date_string'][i].split()[-1]\n"
     ]
    }
   ],
   "source": [
    "df_new['creature_date'] = ''\n",
    "for i in range(len(df_new)):\n",
    "    df_new['creature_date'][i] = df_new['date_string'][i].split()[-1]"
   ]
  },
  {
   "cell_type": "code",
   "execution_count": 67,
   "id": "aa3adf7a",
   "metadata": {},
   "outputs": [
    {
     "data": {
      "text/html": [
       "<div>\n",
       "<style scoped>\n",
       "    .dataframe tbody tr th:only-of-type {\n",
       "        vertical-align: middle;\n",
       "    }\n",
       "\n",
       "    .dataframe tbody tr th {\n",
       "        vertical-align: top;\n",
       "    }\n",
       "\n",
       "    .dataframe thead th {\n",
       "        text-align: right;\n",
       "    }\n",
       "</style>\n",
       "<table border=\"1\" class=\"dataframe\">\n",
       "  <thead>\n",
       "    <tr style=\"text-align: right;\">\n",
       "      <th></th>\n",
       "      <th>first_image_link</th>\n",
       "      <th>art_link</th>\n",
       "      <th>all_view_num</th>\n",
       "      <th>today_view_num</th>\n",
       "      <th>repair_type</th>\n",
       "      <th>article_code</th>\n",
       "      <th>date_string</th>\n",
       "      <th>price</th>\n",
       "      <th>images_links</th>\n",
       "      <th>room_num</th>\n",
       "      <th>parcing_date</th>\n",
       "      <th>region</th>\n",
       "      <th>im_dir</th>\n",
       "      <th>Repair_types_id</th>\n",
       "      <th>creature_date</th>\n",
       "      <th>display_days</th>\n",
       "      <th>avg_views</th>\n",
       "    </tr>\n",
       "  </thead>\n",
       "  <tbody>\n",
       "    <tr>\n",
       "      <th>0</th>\n",
       "      <td>https://cdn-p.cian.site/images/20/361/711/1171...</td>\n",
       "      <td>https://www.cian.ru/sale/flat/265942567/</td>\n",
       "      <td>65 272</td>\n",
       "      <td>1099</td>\n",
       "      <td>Косметический</td>\n",
       "      <td>&lt;html class=\"DOCUMENT_SCROLL_DISABLE\" lang=\"ru...</td>\n",
       "      <td>65272 просмотра с даты создания объявления 26....</td>\n",
       "      <td>8206000</td>\n",
       "      <td>['https://cdn-p.cian.site/images/20/361/711/11...</td>\n",
       "      <td>1</td>\n",
       "      <td>19.04.2023</td>\n",
       "      <td>1</td>\n",
       "      <td>first_images/moscow_image_0000000.jpg</td>\n",
       "      <td>3.0</td>\n",
       "      <td>26.10.2021</td>\n",
       "      <td>540</td>\n",
       "      <td>120.874074</td>\n",
       "    </tr>\n",
       "    <tr>\n",
       "      <th>1</th>\n",
       "      <td>https://cdn-p.cian.site/images/52/223/221/1223...</td>\n",
       "      <td>https://www.cian.ru/sale/flat/269569844/</td>\n",
       "      <td>24 500</td>\n",
       "      <td>374</td>\n",
       "      <td>Косметический</td>\n",
       "      <td>&lt;html class=\"DOCUMENT_SCROLL_DISABLE\" lang=\"ru...</td>\n",
       "      <td>24500 просмотров с даты создания объявления 31...</td>\n",
       "      <td>10796000</td>\n",
       "      <td>['https://cdn-p.cian.site/images/52/223/221/12...</td>\n",
       "      <td>1</td>\n",
       "      <td>19.04.2023</td>\n",
       "      <td>1</td>\n",
       "      <td>first_images/moscow_image_0000001.jpg</td>\n",
       "      <td>3.0</td>\n",
       "      <td>31.01.2022</td>\n",
       "      <td>443</td>\n",
       "      <td>55.304740</td>\n",
       "    </tr>\n",
       "  </tbody>\n",
       "</table>\n",
       "</div>"
      ],
      "text/plain": [
       "                                    first_image_link  \\\n",
       "0  https://cdn-p.cian.site/images/20/361/711/1171...   \n",
       "1  https://cdn-p.cian.site/images/52/223/221/1223...   \n",
       "\n",
       "                                   art_link all_view_num  today_view_num  \\\n",
       "0  https://www.cian.ru/sale/flat/265942567/       65 272            1099   \n",
       "1  https://www.cian.ru/sale/flat/269569844/       24 500             374   \n",
       "\n",
       "     repair_type                                       article_code  \\\n",
       "0  Косметический  <html class=\"DOCUMENT_SCROLL_DISABLE\" lang=\"ru...   \n",
       "1  Косметический  <html class=\"DOCUMENT_SCROLL_DISABLE\" lang=\"ru...   \n",
       "\n",
       "                                         date_string     price  \\\n",
       "0  65272 просмотра с даты создания объявления 26....   8206000   \n",
       "1  24500 просмотров с даты создания объявления 31...  10796000   \n",
       "\n",
       "                                        images_links  room_num parcing_date  \\\n",
       "0  ['https://cdn-p.cian.site/images/20/361/711/11...         1   19.04.2023   \n",
       "1  ['https://cdn-p.cian.site/images/52/223/221/12...         1   19.04.2023   \n",
       "\n",
       "   region                                 im_dir  Repair_types_id  \\\n",
       "0       1  first_images/moscow_image_0000000.jpg              3.0   \n",
       "1       1  first_images/moscow_image_0000001.jpg              3.0   \n",
       "\n",
       "  creature_date display_days   avg_views  \n",
       "0    26.10.2021          540  120.874074  \n",
       "1    31.01.2022          443   55.304740  "
      ]
     },
     "execution_count": 67,
     "metadata": {},
     "output_type": "execute_result"
    }
   ],
   "source": [
    "df_new.head(2)"
   ]
  },
  {
   "cell_type": "code",
   "execution_count": 42,
   "id": "42b6b26e",
   "metadata": {},
   "outputs": [
    {
     "name": "stdout",
     "output_type": "stream",
     "text": [
      "2900\n"
     ]
    },
    {
     "name": "stderr",
     "output_type": "stream",
     "text": [
      "<ipython-input-42-cc136d271f04>:10: SettingWithCopyWarning: \n",
      "A value is trying to be set on a copy of a slice from a DataFrame\n",
      "\n",
      "See the caveats in the documentation: https://pandas.pydata.org/pandas-docs/stable/user_guide/indexing.html#returning-a-view-versus-a-copy\n",
      "  df_new['display_days'][i] = delta.days\n"
     ]
    }
   ],
   "source": [
    "from datetime import datetime\n",
    "date_format = \"%d.%m.%Y\"\n",
    "df_new['display_days'] = ''\n",
    "\n",
    "for i in range(len(df_new)):\n",
    "    try:\n",
    "        a = datetime.strptime(df_new['creature_date'][i], date_format)\n",
    "        b = datetime.strptime(df_new['parcing_date'][i], date_format)\n",
    "        delta = b - a\n",
    "        df_new['display_days'][i] = delta.days\n",
    "    except:\n",
    "        print(i)"
   ]
  },
  {
   "cell_type": "code",
   "execution_count": 45,
   "id": "60c63ade",
   "metadata": {},
   "outputs": [],
   "source": [
    "df_new = df_new.drop([2900])"
   ]
  },
  {
   "cell_type": "code",
   "execution_count": 64,
   "id": "4a10bca1",
   "metadata": {},
   "outputs": [],
   "source": [
    "df_new['avg_views'] = 0\n",
    "drop_list = []\n",
    "for i in range(len(df_new)):\n",
    "    try:\n",
    "        a = df_new['all_view_num'].iloc[i]\n",
    "        df_new['avg_views'].iloc[i] = int(a.replace(\" \", \"\")) /  df_new['display_days'].iloc[i]\n",
    "    except:\n",
    "        drop_list += [i]"
   ]
  },
  {
   "cell_type": "code",
   "execution_count": 66,
   "id": "550a9268",
   "metadata": {},
   "outputs": [],
   "source": [
    "df_new = df_new.drop(drop_list)"
   ]
  },
  {
   "cell_type": "code",
   "execution_count": 6,
   "id": "fadf238b",
   "metadata": {},
   "outputs": [
    {
     "data": {
      "text/plain": [
       "<AxesSubplot:xlabel='avg_views', ylabel='Count'>"
      ]
     },
     "execution_count": 6,
     "metadata": {},
     "output_type": "execute_result"
    },
    {
     "data": {
      "image/png": "[encoded data removed]",
      "text/plain": [
       "<Figure size 432x288 with 1 Axes>"
      ]
     },
     "metadata": {
      "needs_background": "light"
     },
     "output_type": "display_data"
    }
   ],
   "source": [
    "from seaborn import histplot\n",
    "histplot(df_new['avg_views'])"
   ]
  },
  {
   "cell_type": "code",
   "execution_count": 3,
   "id": "20b0a8cb",
   "metadata": {},
   "outputs": [],
   "source": [
    "class MyDataset(torch.utils.data.Dataset):\n",
    "    def __init__(self, X, y=None, transform=None):\n",
    "#         self.const_dir = 'im_data/image_'\n",
    "        self.transform = transform\n",
    "        self.num_elem = len(X)\n",
    "        self.X = X\n",
    "        self.target = y\n",
    "\n",
    "    def __getitem__(self, idx):\n",
    "#         im_name = self.const_dir + str(idx).zfill(4) + '.jpg'\n",
    "        image = torchvision.io.read_image(self.X.iloc[idx]) / 255\n",
    "\n",
    "        if (self.transform is not None):\n",
    "            image = self.transform(image)\n",
    "        if (self.target is not None):\n",
    "            # return image, torch.Tensor(self.X.iloc[idx][['Cardiomegaly', 'Edema', 'Consolidation', 'Atelectasis', 'Pleural Effusion']])\n",
    "            return image, self.target.iloc[idx]\n",
    "        return image\n",
    "    \n",
    "    def __len__(self):\n",
    "        return self.num_elem"
   ]
  },
  {
   "cell_type": "code",
   "execution_count": 5,
   "id": "32279362",
   "metadata": {},
   "outputs": [
    {
     "data": {
      "text/plain": [
       "(5811, 15)"
      ]
     },
     "execution_count": 5,
     "metadata": {},
     "output_type": "execute_result"
    }
   ],
   "source": [
    "df_new.shape"
   ]
  },
  {
   "cell_type": "code",
   "execution_count": 11,
   "id": "c24e577a",
   "metadata": {},
   "outputs": [],
   "source": [
    "train_dataset = MyDataset(df_new['im_dir'], df_new['Repair_types_id'], transform=None)"
   ]
  },
  {
   "cell_type": "code",
   "execution_count": 13,
   "id": "f9514d12",
   "metadata": {},
   "outputs": [
    {
     "name": "stderr",
     "output_type": "stream",
     "text": [
      "/Users/anna/opt/anaconda3/lib/python3.8/site-packages/torchvision/transforms/functional.py:1603: UserWarning: The default value of the antialias parameter of all the resizing transforms (Resize(), RandomResizedCrop(), etc.) will change from None to True in v0.17, in order to be consistent across the PIL and Tensor backends. To suppress this warning, directly pass antialias=True (recommended, future default), antialias=None (current default, which means False for Tensors and True for PIL), or antialias=False (only works on Tensors - PIL will still use antialiasing). This also applies if you are using the inference transforms from the models weights: update the call to weights.transforms(antialias=True).\n",
      "  warnings.warn(\n"
     ]
    }
   ],
   "source": [
    "drop_list = []\n",
    "for i in range(len(train_dataset)):\n",
    "    try:\n",
    "        train_dataset[i]\n",
    "    except:\n",
    "        drop_list += [i]"
   ]
  },
  {
   "cell_type": "code",
   "execution_count": 22,
   "id": "85b271d9",
   "metadata": {},
   "outputs": [],
   "source": [
    "df_new = df_new.drop(drop_list)"
   ]
  }
 ],
 "metadata": {
  "kernelspec": {
   "display_name": "Python 3",
   "language": "python",
   "name": "python3"
  },
  "language_info": {
   "codemirror_mode": {
    "name": "ipython",
    "version": 3
   },
   "file_extension": ".py",
   "mimetype": "text/x-python",
   "name": "python",
   "nbconvert_exporter": "python",
   "pygments_lexer": "ipython3",
   "version": "3.8.8"
  }
 },
 "nbformat": 4,
 "nbformat_minor": 5
}
